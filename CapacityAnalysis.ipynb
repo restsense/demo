{
 "cells": [
  {
   "cell_type": "code",
   "execution_count": 1,
   "metadata": {},
   "outputs": [],
   "source": [
    "import pandas as pd\n",
    "import numpy as np\n",
    "import matplotlib.pyplot as plt\n",
    "import warnings\n",
    "warnings.filterwarnings('ignore', category=FutureWarning)"
   ]
  },
  {
   "attachments": {},
   "cell_type": "markdown",
   "metadata": {},
   "source": [
    "## DATA LOADING"
   ]
  },
  {
   "cell_type": "code",
   "execution_count": 2,
   "metadata": {},
   "outputs": [],
   "source": [
    "SPANS = pd.read_csv('data/traces.csv')\n",
    "RESOURCES = pd.read_csv('data/resources.csv')"
   ]
  },
  {
   "attachments": {},
   "cell_type": "markdown",
   "metadata": {},
   "source": [
    "## Preprocessing"
   ]
  },
  {
   "cell_type": "code",
   "execution_count": 3,
   "metadata": {},
   "outputs": [],
   "source": [
    "# DROP UNNECESSARY COLUMNS\n",
    "SPANS = SPANS.drop([\n",
    "    '_id', '__v', 'metadata.scope',\n",
    "    'name', 'metadata.schema_url'\n",
    "    ], axis=1)\n",
    "\n",
    "# RENAME COLUMNS\n",
    "SPANS = SPANS.rename(columns= {\n",
    "    'attributes.source.net.host.ip': 'source_ip',\n",
    "    'attributes.source.net.host.port': 'source_port',\n",
    "    'attributes.target.net.peer.ip': 'target_ip',\n",
    "    'attributes.target.net.peer.port': 'target_port',\n",
    "    'attributes.operation.http.url': 'request_url',\n",
    "    'attributes.operation.http.method': 'request_method',\n",
    "    'attributes.operation.http.request_content_length_uncompressed': 'request_content_length',\n",
    "    'attributes.operation.http.status_code': 'response_status_code',\n",
    "    'attributes.operation.http.status_text': 'response_status_text',\n",
    "    'attributes.operation.http.response_content_length_uncompressed': 'response_content_length',\n",
    "    'attributes.operation.http.user_agent': 'user_agent',\n",
    "    'attributes.operation.http.host': 'http_host',\n",
    "    'metadata.resource_id': 'resource_id',\n",
    "})\n",
    "\n",
    "# PARSE COLUMN VALUES\n",
    "SPANS['start_time'] = pd.to_datetime(SPANS['start_time'])\n",
    "SPANS['end_time'] = pd.to_datetime(SPANS['end_time'])\n",
    "SPANS['duration'] = pd.to_timedelta(SPANS['end_time'] - SPANS['start_time']).dt.total_seconds() * 1000\n",
    "SPANS['request_content_length'] = pd.to_numeric(SPANS['request_content_length'])\n",
    "SPANS['response_content_length'] = pd.to_numeric(SPANS['response_content_length'])\n",
    "\n",
    "# MERGE COLUMN VALUES\n",
    "SPANS['request'] = SPANS['request_method'] + ' ' + SPANS['request_url']\n",
    "SPANS['response'] = SPANS['response_status_code'].astype(str) + ' ' + SPANS['response_status_text']\n",
    "\n",
    "# DROP MERGED COLUMNS\n",
    "SPANS = SPANS.drop(['request_method', 'request_url', 'response_status_code', 'response_status_text'], axis=1)"
   ]
  },
  {
   "cell_type": "code",
   "execution_count": 4,
   "metadata": {},
   "outputs": [],
   "source": [
    "# DROP UNNECESSARY COLUMNS\n",
    "RESOURCES = RESOURCES.drop([\n",
    "    '__v', 'process.command', 'process.executable.name', 'process.executable.path', 'process.runtime.description'\n",
    "], axis=1)\n",
    "\n",
    "RESOURCES = RESOURCES.rename(columns= {\n",
    "    'service.name': 'service_name',\n",
    "    'service.version': 'service_version',\n",
    "    'service.ip_addr': 'service_ip',\n",
    "    'process.pid': 'pid',\n",
    "    'process.owner': 'owner',\n",
    "    'telemetry.sdk.language': 'telemetry_language',\n",
    "    'telemetry.sdk.name': 'telemetry_name',\n",
    "    'telemetry.sdk.version': 'telemetry_version',\n",
    "    'process.runtime.name': 'runtime_name',\n",
    "    'process.runtime.version': 'runtime_version',\n",
    "})\n",
    "\n",
    "# MERGE COLUMN VALUES\n",
    "RESOURCES['command'] = RESOURCES['process.command_args.0'] + \" \" + RESOURCES['process.command_args.1'] + \" \" + RESOURCES['process.command_args.2'] + \" \" + RESOURCES['process.command_args.3']\n",
    "RESOURCES['telemetry_sdk'] = RESOURCES['telemetry_language'] + \"/\" + RESOURCES['telemetry_name'] + \":\" + RESOURCES['telemetry_version']\n",
    "RESOURCES['runtime'] = RESOURCES['runtime_name'] + \":\" + RESOURCES['runtime_version']\n",
    "\n",
    "# DROP MERGED COLUMNS\n",
    "RESOURCES = RESOURCES.drop([\n",
    "    'telemetry_language', 'telemetry_name', 'telemetry_version',\n",
    "    'runtime_name', 'runtime_version', 'process.command_args.0',\n",
    "    'process.command_args.1', 'process.command_args.2', 'process.command_args.3'\n",
    "], axis=1)"
   ]
  },
  {
   "attachments": {},
   "cell_type": "markdown",
   "metadata": {},
   "source": [
    "## Exploratory Data Analysis"
   ]
  },
  {
   "cell_type": "code",
   "execution_count": 5,
   "metadata": {},
   "outputs": [],
   "source": [
    "TRACES = SPANS['trace_id'].unique() # Get traces ids"
   ]
  },
  {
   "cell_type": "code",
   "execution_count": 6,
   "metadata": {},
   "outputs": [],
   "source": [
    "# SORT SPANS INSIDE A TRACE FOLLOWING THE PARENT-CHILD RELATIONSHIP IN DFS ORDER\n",
    "def trace_dfs_sort_recursive(trace, parent, acc):\n",
    "    if len(acc) == len(trace):\n",
    "        return acc\n",
    "    else:\n",
    "        children = trace.loc[trace['parent_span_id'] == parent['span_id']].sort_values(by=['start_time'])\n",
    "        for i, child in children.iterrows():\n",
    "            acc = acc.append(child)\n",
    "            acc = trace_dfs_sort_recursive(trace, child, acc)\n",
    "        return acc\n",
    "\n",
    "def trace_dfs_sort(trace_id):\n",
    "    trace = SPANS.loc[SPANS['trace_id'] == trace_id]\n",
    "    processed = pd.DataFrame(columns=trace.columns)\n",
    "    parent = trace.loc[pd.isna(trace['parent_span_id'])].iloc[0]\n",
    "    processed = processed.append(parent)\n",
    "    children = trace.loc[trace['parent_span_id'] == parent['span_id']].sort_values(by=['start_time'])\n",
    "    for i, child in children.iterrows():\n",
    "        processed = processed.append(child)\n",
    "        processed = trace_dfs_sort_recursive(trace, child, processed)\n",
    "    return processed.reset_index(drop=True)\n",
    "\n",
    "# GET THE HOST BASED ON IP\n",
    "def get_host(span, scope):\n",
    "    # When no source is declared, it is a request. Thus, thesource is the resource\n",
    "    if scope == 'source' and pd.isna(span['source_ip']):\n",
    "        return RESOURCES.loc[RESOURCES['_id'] == span['resource_id']]['service_name'].iloc[0]\n",
    "    \n",
    "    # When source does exist, it is a response. Thus, source must match http host\n",
    "    elif scope == 'source' and not pd.isna(span['source_ip']): \n",
    "        return span['http_host']\n",
    "        \n",
    "    # When source does exist, it is a response. Thus, we look in resources for the target ip\n",
    "    elif scope == 'target' and not pd.isna(span['source_ip']):\n",
    "        host_name = RESOURCES.loc[RESOURCES['service_ip'] == span['target_ip'].replace(\"::ffff:\", '')]['service_name']\n",
    "        if len(host_name) > 0:\n",
    "            return host_name.iloc[0]\n",
    "        else:\n",
    "            return 'external/uninstrumented'\n",
    "    \n",
    "    # On requests, the target is always the http host\n",
    "    else:\n",
    "        return span['http_host']"
   ]
  },
  {
   "cell_type": "code",
   "execution_count": 9,
   "metadata": {},
   "outputs": [],
   "source": [
    "import plotly.express as px\n",
    "\n",
    "def draw_trace(trace_id):\n",
    "    # Get DFS SORTED TRACE\n",
    "    TRACE = trace_dfs_sort(trace_id)    \n",
    "\n",
    "    # ADD SOURCE AND TARGET COLUMNS FOR EXTRA INFORMATION\n",
    "    TRACE['source'] = TRACE.apply(lambda x: f\"{get_host(x, 'source')}({x['source_ip'] + ':' + str(x['source_port']) if not pd.isna(x['source_ip']) else RESOURCES.loc[RESOURCES['_id'] == x['resource_id']]['service_ip'].iloc[0]})\", axis=1)\n",
    "    TRACE['target'] = TRACE.apply(lambda x: f\"{get_host(x, 'target')}({x['target_ip']}:{x['target_port']})\", axis=1)\n",
    "\n",
    "    # PLOT TRACE\n",
    "    fig = px.timeline(TRACE, x_start=\"start_time\", x_end=\"end_time\",\n",
    "        y=\"span_id\", hover_data={\"span_id\": False, \"duration\": False, \"source\": True, \"target\": True, \"response\": True},\n",
    "        text=\"duration\", hover_name=\"request\", title=\"Trace: \" + TRACES[0],\n",
    "    )\n",
    "    fig.update_yaxes(showticklabels=False, autorange=\"reversed\")\n",
    "    fig.show()"
   ]
  },
  {
   "cell_type": "code",
   "execution_count": 10,
   "metadata": {},
   "outputs": [
    {
     "data": {
      "application/vnd.plotly.v1+json": {
       "config": {
        "plotlyServerURL": "https://plot.ly"
       },
       "data": [
        {
         "alignmentgroup": "True",
         "base": [
          "2023-05-01T00:35:33.043000+00:00",
          "2023-05-01T00:35:33.104000+00:00",
          "2023-05-01T00:35:33.120000+00:00",
          "2023-05-01T00:35:33.171000+00:00",
          "2023-05-01T00:35:33.109000+00:00",
          "2023-05-01T00:35:33.187000+00:00",
          "2023-05-01T00:35:33.214000+00:00",
          "2023-05-01T00:35:33.111000+00:00",
          "2023-05-01T00:35:33.120000+00:00",
          "2023-05-01T00:35:33.175000+00:00",
          "2023-05-01T00:35:33.191000+00:00",
          "2023-05-01T00:35:33.217000+00:00",
          "2023-05-01T00:35:33.246000+00:00",
          "2023-05-01T00:35:33.193000+00:00",
          "2023-05-01T00:35:33.249000+00:00",
          "2023-05-01T00:35:33.272000+00:00",
          "2023-05-01T00:35:33.196000+00:00",
          "2023-05-01T00:35:33.273000+00:00",
          "2023-05-01T00:35:33.289000+00:00"
         ],
         "customdata": [
          [
           795,
           "localhost:8080(::ffff:172.19.0.4:80.0)",
           "external/uninstrumented(::ffff:172.19.0.1:58648)",
           "200 OK"
          ],
          [
           605,
           "microservice-one(172.19.0.4)",
           "microservice-two:80(172.19.0.2:80)",
           "200 OK"
          ],
          [
           588,
           "microservice-two(::ffff:172.19.0.2:80.0)",
           "microservice-one(::ffff:172.19.0.4:47200)",
           "200 OK"
          ],
          [
           493,
           "microservice-two(172.19.0.2)",
           "api.github.com:443(140.82.121.5:443)",
           "200 OK"
          ],
          [
           553,
           "microservice-one(172.19.0.4)",
           "microservice-two:80(172.19.0.2:80)",
           "200 OK"
          ],
          [
           474,
           "microservice-two(::ffff:172.19.0.2:80.0)",
           "microservice-one(::ffff:172.19.0.4:47202)",
           "200 OK"
          ],
          [
           410,
           "microservice-two(172.19.0.2)",
           "api.github.com:443(140.82.121.5:443)",
           "200 OK"
          ],
          [
           700,
           "microservice-one(172.19.0.4)",
           "microservice-three:80(172.19.0.3:80)",
           "200 OK"
          ],
          [
           691,
           "microservice-three(::ffff:172.19.0.3:80.0)",
           "microservice-one(::ffff:172.19.0.4:55142)",
           "200 OK"
          ],
          [
           442,
           "microservice-three(172.19.0.3)",
           "api.github.com:443(140.82.121.5:443)",
           "200 OK"
          ],
          [
           498,
           "microservice-three(172.19.0.3)",
           "microservice-two:80(172.19.0.2:80)",
           "200 OK"
          ],
          [
           472,
           "microservice-two(::ffff:172.19.0.2:80.0)",
           "microservice-three(::ffff:172.19.0.3:39578)",
           "200 OK"
          ],
          [
           416,
           "microservice-two(172.19.0.2)",
           "api.github.com:443(140.82.121.5:443)",
           "200 OK"
          ],
          [
           588,
           "microservice-three(172.19.0.3)",
           "microservice-two:80(172.19.0.2:80)",
           "200 OK"
          ],
          [
           531,
           "microservice-two(::ffff:172.19.0.2:80.0)",
           "microservice-three(::ffff:172.19.0.3:39580)",
           "200 OK"
          ],
          [
           476,
           "microservice-two(172.19.0.2)",
           "api.github.com:443(140.82.121.5:443)",
           "200 OK"
          ],
          [
           548,
           "microservice-three(172.19.0.3)",
           "microservice-two:80(172.19.0.2:80)",
           "200 OK"
          ],
          [
           470,
           "microservice-two(::ffff:172.19.0.2:80.0)",
           "microservice-three(::ffff:172.19.0.3:39582)",
           "200 OK"
          ],
          [
           421,
           "microservice-two(172.19.0.2)",
           "api.github.com:443(140.82.121.5:443)",
           "200 OK"
          ]
         ],
         "hovertemplate": "<b>%{hovertext}</b><br><br>start_time=%{base}<br>end_time=%{x}<br>source=%{customdata[1]}<br>target=%{customdata[2]}<br>response=%{customdata[3]}<extra></extra>",
         "hovertext": [
          "POST http://localhost:8080/api/v1/request",
          "POST http://microservice-two/api/v1/request",
          "POST http://microservice-two/api/v1/request",
          "GET https://api.github.com/users/alesancor1",
          "POST http://microservice-two/api/v1/request",
          "POST http://microservice-two/api/v1/request",
          "GET https://api.github.com/users/alesancor1",
          "POST http://microservice-three/api/v1/request",
          "POST http://microservice-three/api/v1/request",
          "GET https://api.github.com/orgs/oas-tools",
          "POST http://microservice-two/api/v1/request",
          "POST http://microservice-two/api/v1/request",
          "GET https://api.github.com/users/alesancor1",
          "POST http://microservice-two/api/v1/request",
          "POST http://microservice-two/api/v1/request",
          "GET https://api.github.com/users/alesancor1",
          "POST http://microservice-two/api/v1/request",
          "POST http://microservice-two/api/v1/request",
          "GET https://api.github.com/users/alesancor1"
         ],
         "legendgroup": "",
         "marker": {
          "color": "#636efa",
          "pattern": {
           "shape": ""
          }
         },
         "name": "",
         "offsetgroup": "",
         "orientation": "h",
         "showlegend": false,
         "text": [
          795,
          605,
          588,
          493,
          553,
          474,
          410,
          700,
          691,
          442,
          498,
          472,
          416,
          588,
          531,
          476,
          548,
          470,
          421
         ],
         "textposition": "auto",
         "type": "bar",
         "x": [
          795,
          605,
          588,
          493,
          553,
          474,
          410,
          700,
          691,
          442,
          498,
          472,
          416,
          588,
          531,
          476,
          548,
          470,
          421
         ],
         "xaxis": "x",
         "y": [
          "d16bd7f1c38335a8",
          "ac4686cb267de788",
          "ac2c9c979e9418e9",
          "7417148d9e6034e9",
          "cef48089e2663015",
          "2151499627dae131",
          "0f6b52138591295a",
          "34bd5c30cdab2436",
          "f3ce3ce0cc5d50f7",
          "8ca6e56627ab94ce",
          "c70448d8be8654bc",
          "4745a99b03312383",
          "f328516e952d0cca",
          "308bdc922fc97943",
          "236a908a75a2f787",
          "ed21417768e34de0",
          "eead91e3037ffd84",
          "d8a886ba9fa8ae5f",
          "bc7a7bf693c01d60"
         ],
         "yaxis": "y"
        }
       ],
       "layout": {
        "barmode": "overlay",
        "legend": {
         "tracegroupgap": 0
        },
        "template": {
         "data": {
          "bar": [
           {
            "error_x": {
             "color": "#2a3f5f"
            },
            "error_y": {
             "color": "#2a3f5f"
            },
            "marker": {
             "line": {
              "color": "#E5ECF6",
              "width": 0.5
             },
             "pattern": {
              "fillmode": "overlay",
              "size": 10,
              "solidity": 0.2
             }
            },
            "type": "bar"
           }
          ],
          "barpolar": [
           {
            "marker": {
             "line": {
              "color": "#E5ECF6",
              "width": 0.5
             },
             "pattern": {
              "fillmode": "overlay",
              "size": 10,
              "solidity": 0.2
             }
            },
            "type": "barpolar"
           }
          ],
          "carpet": [
           {
            "aaxis": {
             "endlinecolor": "#2a3f5f",
             "gridcolor": "white",
             "linecolor": "white",
             "minorgridcolor": "white",
             "startlinecolor": "#2a3f5f"
            },
            "baxis": {
             "endlinecolor": "#2a3f5f",
             "gridcolor": "white",
             "linecolor": "white",
             "minorgridcolor": "white",
             "startlinecolor": "#2a3f5f"
            },
            "type": "carpet"
           }
          ],
          "choropleth": [
           {
            "colorbar": {
             "outlinewidth": 0,
             "ticks": ""
            },
            "type": "choropleth"
           }
          ],
          "contour": [
           {
            "colorbar": {
             "outlinewidth": 0,
             "ticks": ""
            },
            "colorscale": [
             [
              0,
              "#0d0887"
             ],
             [
              0.1111111111111111,
              "#46039f"
             ],
             [
              0.2222222222222222,
              "#7201a8"
             ],
             [
              0.3333333333333333,
              "#9c179e"
             ],
             [
              0.4444444444444444,
              "#bd3786"
             ],
             [
              0.5555555555555556,
              "#d8576b"
             ],
             [
              0.6666666666666666,
              "#ed7953"
             ],
             [
              0.7777777777777778,
              "#fb9f3a"
             ],
             [
              0.8888888888888888,
              "#fdca26"
             ],
             [
              1,
              "#f0f921"
             ]
            ],
            "type": "contour"
           }
          ],
          "contourcarpet": [
           {
            "colorbar": {
             "outlinewidth": 0,
             "ticks": ""
            },
            "type": "contourcarpet"
           }
          ],
          "heatmap": [
           {
            "colorbar": {
             "outlinewidth": 0,
             "ticks": ""
            },
            "colorscale": [
             [
              0,
              "#0d0887"
             ],
             [
              0.1111111111111111,
              "#46039f"
             ],
             [
              0.2222222222222222,
              "#7201a8"
             ],
             [
              0.3333333333333333,
              "#9c179e"
             ],
             [
              0.4444444444444444,
              "#bd3786"
             ],
             [
              0.5555555555555556,
              "#d8576b"
             ],
             [
              0.6666666666666666,
              "#ed7953"
             ],
             [
              0.7777777777777778,
              "#fb9f3a"
             ],
             [
              0.8888888888888888,
              "#fdca26"
             ],
             [
              1,
              "#f0f921"
             ]
            ],
            "type": "heatmap"
           }
          ],
          "heatmapgl": [
           {
            "colorbar": {
             "outlinewidth": 0,
             "ticks": ""
            },
            "colorscale": [
             [
              0,
              "#0d0887"
             ],
             [
              0.1111111111111111,
              "#46039f"
             ],
             [
              0.2222222222222222,
              "#7201a8"
             ],
             [
              0.3333333333333333,
              "#9c179e"
             ],
             [
              0.4444444444444444,
              "#bd3786"
             ],
             [
              0.5555555555555556,
              "#d8576b"
             ],
             [
              0.6666666666666666,
              "#ed7953"
             ],
             [
              0.7777777777777778,
              "#fb9f3a"
             ],
             [
              0.8888888888888888,
              "#fdca26"
             ],
             [
              1,
              "#f0f921"
             ]
            ],
            "type": "heatmapgl"
           }
          ],
          "histogram": [
           {
            "marker": {
             "pattern": {
              "fillmode": "overlay",
              "size": 10,
              "solidity": 0.2
             }
            },
            "type": "histogram"
           }
          ],
          "histogram2d": [
           {
            "colorbar": {
             "outlinewidth": 0,
             "ticks": ""
            },
            "colorscale": [
             [
              0,
              "#0d0887"
             ],
             [
              0.1111111111111111,
              "#46039f"
             ],
             [
              0.2222222222222222,
              "#7201a8"
             ],
             [
              0.3333333333333333,
              "#9c179e"
             ],
             [
              0.4444444444444444,
              "#bd3786"
             ],
             [
              0.5555555555555556,
              "#d8576b"
             ],
             [
              0.6666666666666666,
              "#ed7953"
             ],
             [
              0.7777777777777778,
              "#fb9f3a"
             ],
             [
              0.8888888888888888,
              "#fdca26"
             ],
             [
              1,
              "#f0f921"
             ]
            ],
            "type": "histogram2d"
           }
          ],
          "histogram2dcontour": [
           {
            "colorbar": {
             "outlinewidth": 0,
             "ticks": ""
            },
            "colorscale": [
             [
              0,
              "#0d0887"
             ],
             [
              0.1111111111111111,
              "#46039f"
             ],
             [
              0.2222222222222222,
              "#7201a8"
             ],
             [
              0.3333333333333333,
              "#9c179e"
             ],
             [
              0.4444444444444444,
              "#bd3786"
             ],
             [
              0.5555555555555556,
              "#d8576b"
             ],
             [
              0.6666666666666666,
              "#ed7953"
             ],
             [
              0.7777777777777778,
              "#fb9f3a"
             ],
             [
              0.8888888888888888,
              "#fdca26"
             ],
             [
              1,
              "#f0f921"
             ]
            ],
            "type": "histogram2dcontour"
           }
          ],
          "mesh3d": [
           {
            "colorbar": {
             "outlinewidth": 0,
             "ticks": ""
            },
            "type": "mesh3d"
           }
          ],
          "parcoords": [
           {
            "line": {
             "colorbar": {
              "outlinewidth": 0,
              "ticks": ""
             }
            },
            "type": "parcoords"
           }
          ],
          "pie": [
           {
            "automargin": true,
            "type": "pie"
           }
          ],
          "scatter": [
           {
            "fillpattern": {
             "fillmode": "overlay",
             "size": 10,
             "solidity": 0.2
            },
            "type": "scatter"
           }
          ],
          "scatter3d": [
           {
            "line": {
             "colorbar": {
              "outlinewidth": 0,
              "ticks": ""
             }
            },
            "marker": {
             "colorbar": {
              "outlinewidth": 0,
              "ticks": ""
             }
            },
            "type": "scatter3d"
           }
          ],
          "scattercarpet": [
           {
            "marker": {
             "colorbar": {
              "outlinewidth": 0,
              "ticks": ""
             }
            },
            "type": "scattercarpet"
           }
          ],
          "scattergeo": [
           {
            "marker": {
             "colorbar": {
              "outlinewidth": 0,
              "ticks": ""
             }
            },
            "type": "scattergeo"
           }
          ],
          "scattergl": [
           {
            "marker": {
             "colorbar": {
              "outlinewidth": 0,
              "ticks": ""
             }
            },
            "type": "scattergl"
           }
          ],
          "scattermapbox": [
           {
            "marker": {
             "colorbar": {
              "outlinewidth": 0,
              "ticks": ""
             }
            },
            "type": "scattermapbox"
           }
          ],
          "scatterpolar": [
           {
            "marker": {
             "colorbar": {
              "outlinewidth": 0,
              "ticks": ""
             }
            },
            "type": "scatterpolar"
           }
          ],
          "scatterpolargl": [
           {
            "marker": {
             "colorbar": {
              "outlinewidth": 0,
              "ticks": ""
             }
            },
            "type": "scatterpolargl"
           }
          ],
          "scatterternary": [
           {
            "marker": {
             "colorbar": {
              "outlinewidth": 0,
              "ticks": ""
             }
            },
            "type": "scatterternary"
           }
          ],
          "surface": [
           {
            "colorbar": {
             "outlinewidth": 0,
             "ticks": ""
            },
            "colorscale": [
             [
              0,
              "#0d0887"
             ],
             [
              0.1111111111111111,
              "#46039f"
             ],
             [
              0.2222222222222222,
              "#7201a8"
             ],
             [
              0.3333333333333333,
              "#9c179e"
             ],
             [
              0.4444444444444444,
              "#bd3786"
             ],
             [
              0.5555555555555556,
              "#d8576b"
             ],
             [
              0.6666666666666666,
              "#ed7953"
             ],
             [
              0.7777777777777778,
              "#fb9f3a"
             ],
             [
              0.8888888888888888,
              "#fdca26"
             ],
             [
              1,
              "#f0f921"
             ]
            ],
            "type": "surface"
           }
          ],
          "table": [
           {
            "cells": {
             "fill": {
              "color": "#EBF0F8"
             },
             "line": {
              "color": "white"
             }
            },
            "header": {
             "fill": {
              "color": "#C8D4E3"
             },
             "line": {
              "color": "white"
             }
            },
            "type": "table"
           }
          ]
         },
         "layout": {
          "annotationdefaults": {
           "arrowcolor": "#2a3f5f",
           "arrowhead": 0,
           "arrowwidth": 1
          },
          "autotypenumbers": "strict",
          "coloraxis": {
           "colorbar": {
            "outlinewidth": 0,
            "ticks": ""
           }
          },
          "colorscale": {
           "diverging": [
            [
             0,
             "#8e0152"
            ],
            [
             0.1,
             "#c51b7d"
            ],
            [
             0.2,
             "#de77ae"
            ],
            [
             0.3,
             "#f1b6da"
            ],
            [
             0.4,
             "#fde0ef"
            ],
            [
             0.5,
             "#f7f7f7"
            ],
            [
             0.6,
             "#e6f5d0"
            ],
            [
             0.7,
             "#b8e186"
            ],
            [
             0.8,
             "#7fbc41"
            ],
            [
             0.9,
             "#4d9221"
            ],
            [
             1,
             "#276419"
            ]
           ],
           "sequential": [
            [
             0,
             "#0d0887"
            ],
            [
             0.1111111111111111,
             "#46039f"
            ],
            [
             0.2222222222222222,
             "#7201a8"
            ],
            [
             0.3333333333333333,
             "#9c179e"
            ],
            [
             0.4444444444444444,
             "#bd3786"
            ],
            [
             0.5555555555555556,
             "#d8576b"
            ],
            [
             0.6666666666666666,
             "#ed7953"
            ],
            [
             0.7777777777777778,
             "#fb9f3a"
            ],
            [
             0.8888888888888888,
             "#fdca26"
            ],
            [
             1,
             "#f0f921"
            ]
           ],
           "sequentialminus": [
            [
             0,
             "#0d0887"
            ],
            [
             0.1111111111111111,
             "#46039f"
            ],
            [
             0.2222222222222222,
             "#7201a8"
            ],
            [
             0.3333333333333333,
             "#9c179e"
            ],
            [
             0.4444444444444444,
             "#bd3786"
            ],
            [
             0.5555555555555556,
             "#d8576b"
            ],
            [
             0.6666666666666666,
             "#ed7953"
            ],
            [
             0.7777777777777778,
             "#fb9f3a"
            ],
            [
             0.8888888888888888,
             "#fdca26"
            ],
            [
             1,
             "#f0f921"
            ]
           ]
          },
          "colorway": [
           "#636efa",
           "#EF553B",
           "#00cc96",
           "#ab63fa",
           "#FFA15A",
           "#19d3f3",
           "#FF6692",
           "#B6E880",
           "#FF97FF",
           "#FECB52"
          ],
          "font": {
           "color": "#2a3f5f"
          },
          "geo": {
           "bgcolor": "white",
           "lakecolor": "white",
           "landcolor": "#E5ECF6",
           "showlakes": true,
           "showland": true,
           "subunitcolor": "white"
          },
          "hoverlabel": {
           "align": "left"
          },
          "hovermode": "closest",
          "mapbox": {
           "style": "light"
          },
          "paper_bgcolor": "white",
          "plot_bgcolor": "#E5ECF6",
          "polar": {
           "angularaxis": {
            "gridcolor": "white",
            "linecolor": "white",
            "ticks": ""
           },
           "bgcolor": "#E5ECF6",
           "radialaxis": {
            "gridcolor": "white",
            "linecolor": "white",
            "ticks": ""
           }
          },
          "scene": {
           "xaxis": {
            "backgroundcolor": "#E5ECF6",
            "gridcolor": "white",
            "gridwidth": 2,
            "linecolor": "white",
            "showbackground": true,
            "ticks": "",
            "zerolinecolor": "white"
           },
           "yaxis": {
            "backgroundcolor": "#E5ECF6",
            "gridcolor": "white",
            "gridwidth": 2,
            "linecolor": "white",
            "showbackground": true,
            "ticks": "",
            "zerolinecolor": "white"
           },
           "zaxis": {
            "backgroundcolor": "#E5ECF6",
            "gridcolor": "white",
            "gridwidth": 2,
            "linecolor": "white",
            "showbackground": true,
            "ticks": "",
            "zerolinecolor": "white"
           }
          },
          "shapedefaults": {
           "line": {
            "color": "#2a3f5f"
           }
          },
          "ternary": {
           "aaxis": {
            "gridcolor": "white",
            "linecolor": "white",
            "ticks": ""
           },
           "baxis": {
            "gridcolor": "white",
            "linecolor": "white",
            "ticks": ""
           },
           "bgcolor": "#E5ECF6",
           "caxis": {
            "gridcolor": "white",
            "linecolor": "white",
            "ticks": ""
           }
          },
          "title": {
           "x": 0.05
          },
          "xaxis": {
           "automargin": true,
           "gridcolor": "white",
           "linecolor": "white",
           "ticks": "",
           "title": {
            "standoff": 15
           },
           "zerolinecolor": "white",
           "zerolinewidth": 2
          },
          "yaxis": {
           "automargin": true,
           "gridcolor": "white",
           "linecolor": "white",
           "ticks": "",
           "title": {
            "standoff": 15
           },
           "zerolinecolor": "white",
           "zerolinewidth": 2
          }
         }
        },
        "title": {
         "text": "Trace: a6944968e1866b0987dc3f814e205a50"
        },
        "xaxis": {
         "anchor": "y",
         "domain": [
          0,
          1
         ],
         "type": "date"
        },
        "yaxis": {
         "anchor": "x",
         "autorange": "reversed",
         "domain": [
          0,
          1
         ],
         "showticklabels": false,
         "title": {
          "text": "span_id"
         }
        }
       }
      }
     },
     "metadata": {},
     "output_type": "display_data"
    }
   ],
   "source": [
    "draw_trace(TRACES[0])"
   ]
  },
  {
   "cell_type": "code",
   "execution_count": 12,
   "metadata": {},
   "outputs": [],
   "source": [
    "# Draw a network graph of the trace based on source and target\n",
    "import networkx as nx\n",
    "\n",
    "def get_network_graph(trace_id):\n",
    "    # Get DFS SORTED TRACE\n",
    "    TRACE = trace_dfs_sort(trace_id)    \n",
    "\n",
    "    # ADD SOURCE AND TARGET COLUMNS FOR EXTRA INFORMATION\n",
    "    TRACE['source'] = TRACE.apply(lambda x: x['source_ip'].replace(\"::ffff:\",'') if not pd.isna(x['source_ip']) else RESOURCES.loc[RESOURCES['_id'] == x['resource_id']]['service_ip'].iloc[0], axis=1)\n",
    "    TRACE['target'] = TRACE.apply(lambda x: x['target_ip'].replace(\"::ffff:\",''), axis=1)\n",
    "\n",
    "    # BUILD GRAPH\n",
    "    G = nx.DiGraph()\n",
    "    for i, row in TRACE.iterrows():\n",
    "        if pd.isna(row['source_ip']) or pd.isna(row['parent_span_id']):\n",
    "            if G.has_edge(row['source'], row['target']):\n",
    "                G[row['source']][row['target']]['weight'] += 1\n",
    "            else:\n",
    "                G.add_edge(row['source'], row['target'], weight=1)\n",
    "    \n",
    "    for edge in G.edges(data=True):\n",
    "        G[edge[0]][edge[1]]['weight'] = G[edge[0]][edge[1]]['weight'] // (G.in_degree(edge[0]) if G.in_degree(edge[0]) > 0 else 1)\n",
    "    \n",
    "    G.graph['name'] = TRACE['request'].iloc[0]\n",
    "\n",
    "    return G\n",
    "\n",
    "def draw_network(G):\n",
    "    # DRAW GRAPH\n",
    "    pos = nx.spring_layout(G, k=0.5, iterations=50, seed=46)\n",
    "    nx.draw(G, pos, with_labels=False, font_weight='bold', node_size=1500, width=2)\n",
    "    edge_labels = nx.get_edge_attributes(G, 'weight')\n",
    "    node_labels = map(lambda x: f\"{RESOURCES[RESOURCES['service_ip'] == x]['service_name'].iloc[0] if len(RESOURCES[RESOURCES['service_ip'] == x]['service_name']) > 0 else 'external/uninstrumented'}\\n({x})\", list(nx.nodes(G)))\n",
    "    nx.draw_networkx_edge_labels(G, pos, edge_labels=edge_labels, font_size=10)\n",
    "    nx.draw_networkx_labels(G, pos, labels=dict(zip(list(nx.nodes(G)), node_labels)), font_size=8)\n",
    "    ax = plt.gca()\n",
    "    ax.margins(0.20)\n",
    "\n",
    "    plt.title(\"Topology for \" + G.graph['name'] )\n",
    "    plt.show()\n"
   ]
  },
  {
   "cell_type": "code",
   "execution_count": 13,
   "metadata": {},
   "outputs": [
    {
     "data": {
      "image/png": "[encoded data removed]",
      "text/plain": [
       "<Figure size 640x480 with 1 Axes>"
      ]
     },
     "metadata": {},
     "output_type": "display_data"
    }
   ],
   "source": [
    "draw_network(get_network_graph(TRACES[0]))"
   ]
  },
  {
   "attachments": {},
   "cell_type": "markdown",
   "metadata": {},
   "source": [
    "## CAPACITY ANALYSIS"
   ]
  },
  {
   "cell_type": "code",
   "execution_count": 14,
   "metadata": {},
   "outputs": [],
   "source": [
    "# We will use an API to send the model and obtain the result. \n",
    "# We need the requests and json libraries to send and parse requests and responses.\n",
    "\n",
    "import requests, json \n",
    "\n",
    "# Some auxiliary constants and variables\n",
    "TRACE = TRACES[0]\n",
    "G = get_network_graph(TRACE)\n",
    "\n",
    "SECONDS_PER_MONTH= 60*60*24*30\n",
    "SECONDS_PER_DAY= 60*60*24\n",
    "MAXIMUM_COST= 99999999.99\n",
    "\n",
    "serviceName = 'test_infrastructure-' + G.graph['name'].replace(' ', '_').replace('/', '_').replace(':', '_').replace('.', '_').replace('?', '_').replace('&', '_').replace('=', '_').replace('-', '_')\n",
    "\n",
    "api_url = 'https://smart-lama.services.governify.io/api/v2/lamas'\n",
    "urlBase= api_url+'/'+serviceName+'/operations/'"
   ]
  },
  {
   "cell_type": "code",
   "execution_count": 15,
   "metadata": {},
   "outputs": [],
   "source": [
    "# LAMA CRUD wrappers \n",
    "\n",
    "def post_lama(ldl):\n",
    "    headers = {'Content-Type': 'application/json'}\n",
    "    json_response = requests.post(api_url, data=json.dumps(ldl), headers=headers)\n",
    "    res = json_response.status_code\n",
    "    return res\n",
    "\n",
    "def put_lama(ldl):\n",
    "    headers = {'Content-Type': 'application/json'}\n",
    "    json_response = requests.put(api_url+'/'+serviceName, data=json.dumps(ldl), headers=headers)\n",
    "    res = json_response.status_code\n",
    "    return res\n",
    "\n",
    "def delete_lama():\n",
    "    json_response = requests.delete(api_url+'/'+serviceName)\n",
    "    res = json_response.status_code\n",
    "    return res"
   ]
  },
  {
   "cell_type": "code",
   "execution_count": 16,
   "metadata": {},
   "outputs": [],
   "source": [
    "# Operation wrappers\n",
    "\n",
    "def maxRequests(timeWindow,maximumCost=MAXIMUM_COST,useOvg=\"false\"):\n",
    "    api_q= urlBase+'maxRequests?OpEx={0}&time={1}&useOvg={2}'.format(maximumCost,timeWindow,useOvg)\n",
    "    res = requests.get(api_q).json()\n",
    "    result = res['result']\n",
    "    response = res['response']\n",
    "    return (result, response)\n",
    "\n",
    "def maxRequestsKeys(timeWindow,keysE1Basic,keysE1Premium,keysE2Silver,keysE2Gold,useOvg=\"false\"):\n",
    "    api_q= urlBase+'maxRequests?K-E1-Basic={0}&K-E1-Premium={1}&K-E2-Silver={2}&K-E2-Gold={3}&time={4}&useOvg={5}'.format(keysE1Basic,keysE1Premium,keysE2Silver,keysE2Gold,timeWindow,useOvg)\n",
    "    res = requests.get(api_q).json()\n",
    "    result = res['result']\n",
    "    response = res['response']\n",
    "    return (result, response)\n",
    "\n",
    "def minCost(numRequests,numSeconds=SECONDS_PER_MONTH,useOvg=\"false\"):\n",
    "    api_q= urlBase+'minCost?reqL={0}&time={1}&useOvg={2}'.format(numRequests,numSeconds,useOvg)\n",
    "    res = requests.get(api_q).json()\n",
    "    result = res['result']\n",
    "    response = res['response']\n",
    "    return (result, response)\n",
    "\n",
    "def minTime(numRequests,maximumCost=MAXIMUM_COST,useOvg=\"false\"):\n",
    "    api_q= urlBase+'minTime?reqL={0}&OpEx={1}&useOvg={2}'.format(numRequests, maximumCost,useOvg)\n",
    "    res = requests.get(api_q).json()\n",
    "    result = res['result']\n",
    "    response = res['response']\n",
    "    return (result, response)\n",
    "\n",
    "def minTimeKeys(numRequests,keysE1Basic,keysE1Premium,keysE2Silver,keysE2Gold,useOvg=\"false\"):\n",
    "    api_q= urlBase+'minTime?reqL={0}&K-E1-Basic={1}&K-E1-Premium={2}&K-E2-Silver={3}&K-E2-Gold={4}&useOvg={5}'.format(numRequests,keysE1Basic,keysE1Premium,keysE2Silver,keysE2Gold,useOvg)\n",
    "    res = requests.get(api_q).json()\n",
    "    result = res['result']\n",
    "    response = res['response']\n",
    "    return (result, response)\n"
   ]
  },
  {
   "attachments": {},
   "cell_type": "markdown",
   "metadata": {},
   "source": [
    "### LAMA Creation"
   ]
  },
  {
   "cell_type": "code",
   "execution_count": 20,
   "metadata": {},
   "outputs": [
    {
     "name": "stdout",
     "output_type": "stream",
     "text": [
      "Internal services:  ['172_19_0_4', '172_19_0_1', '172_19_0_2', '172_19_0_3']\n",
      "External services:  ['140_82_121_5']\n",
      "Entry:  172_19_0_1\n",
      "Relationships:  [{'from': '172_19_0_4', 'to': '172_19_0_1', 'value': 1}, {'from': '172_19_0_4', 'to': '172_19_0_2', 'value': 2}, {'from': '172_19_0_4', 'to': '172_19_0_3', 'value': 1}, {'from': '172_19_0_2', 'to': '140_82_121_5', 'value': 2}, {'from': '172_19_0_3', 'to': '140_82_121_5', 'value': 1}, {'from': '172_19_0_3', 'to': '172_19_0_2', 'value': 3}]\n"
     ]
    }
   ],
   "source": [
    "import ipaddress\n",
    "\n",
    "# Adapt the information in the graph to the LAMA model\n",
    "nodes = G.nodes()\n",
    "\n",
    "# Get the entry point\n",
    "entry = SPANS.loc[SPANS['trace_id'] == TRACE]\n",
    "entry = entry.loc[pd.isna(entry['parent_span_id'])].sort_values(by=['start_time']).iloc[0]\n",
    "entry = entry['target_ip'].replace(\"::ffff:\",'').replace(\".\", \"_\")\n",
    "\n",
    "# Infer the network id from the entry point target ip\n",
    "network_id = ipaddress.ip_network(entry.replace(\"_\", \".\") + '/' + str(32 - len(nodes)), strict=False)\n",
    "\n",
    "# Get internal and external services\n",
    "internal_services = list(map(lambda x: x.replace(\".\", \"_\"), list(filter(lambda x: ipaddress.ip_address(x) in network_id, nodes))))\n",
    "external_services = list(map(lambda x: x.replace(\".\", \"_\"), list(filter(lambda x: ipaddress.ip_address(x) not in network_id, nodes))))\n",
    "\n",
    "# Map edges to the LAMA model (The entrypoint edge must be reversed since it is a response)\n",
    "edges = map(lambda x: { \"from\": x[0].replace(\".\", \"_\"), \"to\": x[1].replace(\".\", \"_\"), \"value\": G[x[0]][x[1]]['weight'] }, G.edges(data=True))\n",
    "relationships = list(map(lambda x: { \"from\": x['to'], \"to\": x['from'], \"value\": x['value'] } if x['from'] == entry else x, edges))\n",
    "\n",
    "# Print the information\n",
    "print(\"Internal services: \", internal_services)\n",
    "print(\"External services: \", external_services)\n",
    "print(\"Entry: \", entry)\n",
    "print(\"Relationships: \", relationships)"
   ]
  },
  {
   "cell_type": "code",
   "execution_count": 21,
   "metadata": {},
   "outputs": [],
   "source": [
    "# Description of the LAMA to analyse\n",
    "lama_dl = {\n",
    "    \"id\": serviceName,\n",
    "    \"services\": internal_services,\n",
    "    \"external\": external_services,\n",
    "    \"entry\": entry,\n",
    "    \"relationships\": relationships,\n",
    "    \"pricings\": [\n",
    "        {\n",
    "            \"external\": external_services[0],\n",
    "            \"plans\": [\n",
    "                {\n",
    "                    \"name\": \"Authenticated\",\n",
    "                    \"cost\": 0.0,\n",
    "                    \"rate\": 5000,\n",
    "                    \"rateunit\": 86400,\n",
    "                    \"quota\": 5000,\n",
    "                    \"quotaunit\": 86400,\n",
    "                    \"ovg\": 0.0\n",
    "                }\n",
    "            ]\n",
    "        }\n",
    "    ]\n",
    "}"
   ]
  },
  {
   "cell_type": "code",
   "execution_count": 22,
   "metadata": {},
   "outputs": [
    {
     "name": "stdout",
     "output_type": "stream",
     "text": [
      "The LAMA for test_infrastructure-POST_http___localhost_8080_api_v1_request is succesfully created\n"
     ]
    }
   ],
   "source": [
    "status = post_lama(lama_dl)\n",
    "if status == 201:\n",
    "    print('The LAMA for ' + serviceName + ' is succesfully created')\n",
    "elif status == 409:\n",
    "   # update/put the resource\n",
    "    status_2 = put_lama(lama_dl)\n",
    "    if status_2 == 204:\n",
    "        print('The LAMA for ' + serviceName + ' was successfully updated')\n",
    "    else:\n",
    "        print('There was an error when updating the LAMA for ' + serviceName)\n",
    "    #print('The LAMA for ' + serviceName + ' is already created')\n",
    "else:\n",
    "    print('There was an error when creating the LAMA for ' + serviceName)"
   ]
  },
  {
   "cell_type": "code",
   "execution_count": 23,
   "metadata": {},
   "outputs": [
    {
     "name": "stdout",
     "output_type": "stream",
     "text": [
      "The maximum number of requests than can be made in 1 minute is 4545 \n",
      "<pre>req172_19_0_4 = 4545;\n",
      "req172_19_0_1 = 4545;\n",
      "req172_19_0_2 = 22725;\n",
      "req172_19_0_3 = 4545;\n",
      "req140_82_121_5 = 49995;\n",
      "reqL = 4545;\n",
      "time = 60;\n",
      "OpEx = 0.0;\n",
      "limReq140_82_121_5 = array1d(Plans140_82_121_5, [49995]);\n",
      "ovgReq140_82_121_5 = array1d(Plans140_82_121_5, [0]);\n",
      "keys140_82_121_5 = array1d(Plans140_82_121_5, [10]);\n",
      "OpEx140_82_121_5 = -0.0;\n",
      "aux = 0;\n",
      "----------\n",
      "==========\n",
      "</pre>\n"
     ]
    }
   ],
   "source": [
    "# Q1. What is the maximum number of requests that can be made in 1 minute? \n",
    "\n",
    "(MR,fullResponse) = maxRequests(60)\n",
    "print ('The maximum number of requests than can be made in 1 minute is {0} '.format(MR))\n",
    "print (fullResponse)"
   ]
  },
  {
   "cell_type": "code",
   "execution_count": 24,
   "metadata": {},
   "outputs": [
    {
     "data": {
      "text/plain": [
       "204"
      ]
     },
     "execution_count": 24,
     "metadata": {},
     "output_type": "execute_result"
    }
   ],
   "source": [
    "delete_lama()"
   ]
  },
  {
   "attachments": {},
   "cell_type": "markdown",
   "metadata": {},
   "source": [
    "## Limitations\n",
    "\n",
    "* It is not possible to automatically obtain the plans from external APIs, they must be entered manually.\n",
    "* If not all services are implemented, it is not possible to identify external services when the infrastructure is distributed over several servers with different network identifiers."
   ]
  }
 ],
 "metadata": {
  "kernelspec": {
   "display_name": "base",
   "language": "python",
   "name": "python3"
  },
  "language_info": {
   "codemirror_mode": {
    "name": "ipython",
    "version": 3
   },
   "file_extension": ".py",
   "mimetype": "text/x-python",
   "name": "python",
   "nbconvert_exporter": "python",
   "pygments_lexer": "ipython3",
   "version": "3.10.11"
  },
  "orig_nbformat": 4
 },
 "nbformat": 4,
 "nbformat_minor": 2
}
