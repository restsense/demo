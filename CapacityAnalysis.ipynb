{
 "cells": [
  {
   "attachments": {},
   "cell_type": "markdown",
   "metadata": {},
   "source": [
    "# **Telemetry-Based Capacity Analysis for LAMAs**"
   ]
  },
  {
   "attachments": {},
   "cell_type": "markdown",
   "metadata": {},
   "source": [
    "---\n",
    "\n",
    "**Author:** [alesancor1](https://github.com/alesancor1)\n",
    "\n",
    "**License:** [GNU GPLv3](https://www.gnu.org/licenses/gpl-3.0.html)\n",
    "\n",
    "**Last modified:** 2023-05-30\n",
    "\n",
    "---"
   ]
  },
  {
   "attachments": {},
   "cell_type": "markdown",
   "metadata": {},
   "source": [
    "### **Summary**\n",
    "This showcase is intended to demonstrate the aplicability of telemetry to the Capacity Analysis process through the use of RESTSense. Capacity Analysis encompasses the analysis of capacity, a complex metric derived as a consequence of the interaction of microservices architectures (MSAs) with external services that establish rate limitations. These rate limitations forces the MSA to be aware of them, and for instance, this MSAs are refered to as Limitation-Aware Microservice Architectures (LAMAs). Thus, in order to evaluate the ability of RESTSense to provide valuable insights into the analysis process, we have prepared a test architecture that consists of a set of microservices (MSA) that are deployed using docker-compose. These services interact with external APIs, such as GitHub, converting this MSA into a LAMA. The TestBed is composed of the following three microservices, developped based on the [Generic API Requester](https://github.com/alesancor1/api-requester) project. Results show that RESTSense is able to successfully infer the inputs required for the capacity analysis based on the telemetry data, and thus, contributes to the automation of the capacity analysis process."
   ]
  },
  {
   "attachments": {},
   "cell_type": "markdown",
   "metadata": {},
   "source": [
    "### **Contents**\n",
    "\n",
    "1. [Introduction](#1.-introduction)\n",
    "   1. [Objectives](#1.1-objectives)\n",
    "   2. [TestBed](#1.2-testbed)\n",
    "2. [Data Extraction](#2.-data-extraction)\n",
    "   1. [Prerequisites](#2.1-prerequisites)\n",
    "   2. [Data loading](#2.2-data-loading)\n",
    "   3. [Preprocessing](#2.3-preprocessing)\n",
    "3. [Exploratory Data Analysis](#3.-exploratory-data-analysis)\n",
    "   1. [Data visualization](#3.1-data-visualization)\n",
    "   2. [Inferring topology](#3.2-inferring-topology)\n",
    "4. [Capacity Analysis](#4.-capacity-analysis)\n",
    "   1. [LAMA creation](#4.1-lama-creation)\n",
    "   2. [Analysis](#4.2-analysis)\n",
    "   3. [Results](#4.3-results)\n",
    "5. [Limitations](#5.-limitations)\n",
    "6. [Conclusions](#6.-conclusions)\n",
    "\n",
    "---"
   ]
  },
  {
   "attachments": {},
   "cell_type": "markdown",
   "metadata": {},
   "source": [
    "### **1. Introduction**\n",
    "This notebooks serves as an introduction to capacity analysis and telemetry integration using RESTSense. In this section, we will provide an overview of the purpose and scope of this showcase, highlighting the significance of telemetry in the capacity analysis process.\n",
    "\n",
    "Capacity analysis involves assessing the capabilities and limitations of a system, particularly in the context of microservices architectures (MSAs) interacting with external services. These interactions often introduce rate limitations that MSAs must take into account, which converts the MSAs into Limitation-Aware Microservice Architectures (LAMAs). Understanding and optimizing capacity is crucial for ensuring the smooth functioning and optimal performance of these systems.\n",
    "\n",
    "To facilitate the evaluation of RESTSense's effectiveness in providing valuable insights for capacity analysis, we have prepared a test architecture consisting of a set of microservices (MSAs) deployed using docker-compose. These services interact with external APIs, such as GitHub, transforming our MSA into a LAMA. By leveraging RESTSense, we aim to automate the capacity analysis process and enhance our understanding of system behavior.\n",
    "\n",
    "In the subsequent sections, we will present specific objectives of this showcase and explore the TestBed, which comprises three microservices developed based on the [Generic API Requester](https://github.com/alesancor1/api-requester) project. Furthermore, we will present the results obtained from applying RESTSense to infer the necessary inputs for capacity analysis based on the telemetry data.\n",
    "\n",
    "#### **1.1 Objectives**\n",
    "\n",
    "The primary objective of this showcase is to demonstrate the applicability of telemetry to the capacity analysis process. To this end, we will leverage RESTSense to infer the inputs required for capacity analysis based on the telemetry data.\n",
    "\n",
    "\n",
    "#### **1.2 TestBed**\n",
    "\n",
    "As mentioned before, the Testbed consists of three microservices developed based on the Generic API Requester project. The microservices interact with external APIs, such as GitHub, and are deployed using docker-compose. The following figure illustrates the TestBed architecture:\n",
    "\n",
    "<center>\n",
    "<img src=\"./testbed/architecture.png\" alt=\"TestBed\" width=\"600\"/>\n",
    "<figcaption><i>Fig.1 - Architecture of the Testbed</i></figcaption>\n",
    "</center>\n",
    "\n",
    "This architecture has been built thanks to the flexibility of the Generic API Requester, which allows to easily create new microservices by simply deploying a new docker container and sending the desired requests to make in JSON format. This way, it is possible to model multiple architectures with different topologies and interactions with external APIs.\n",
    "\n",
    "---"
   ]
  },
  {
   "attachments": {},
   "cell_type": "markdown",
   "metadata": {},
   "source": [
    "### **2. Data Extraction**\n",
    "\n",
    "The data extraction process is performed in two primary steps: data loading and preprocessing. The data loading step consists of loading the data from the database into a pandas dataframe. The preprocessing step consists of cleaning the data and extracting the relevant information from it.\n",
    "\n",
    "The is reported by the [RESTSense Agent](https://github.com/restsense/agent) and collected by [RESTSense Collector](https://github.com/restsense/collector), then parsed and stored in a MongoDB database afterwards. Once stored, the data is extracted from the database into a CSV file using the [MongoDB Compass](https://www.mongodb.com/products/compass) tool. CSV files can be found in the `data` directory."
   ]
  },
  {
   "attachments": {},
   "cell_type": "markdown",
   "metadata": {},
   "source": [
    "#### **2.1 Prerequisites**\n",
    "\n",
    "The complete process of analysis performed in this notebook has been developed using Python 3.9.13. The following libraries are required to run the notebook:\n",
    "\n",
    "* [pandas](https://pandas.pydata.org/) - library for data manipulation and analysis.\n",
    "* [numpy](https://numpy.org/) - library for scientific computing.\n",
    "* [matplotlib](https://matplotlib.org/) and [plotly](https://plotly.com/) - libraries for data visualization.\n",
    "* [networkx](https://networkx.org/) - library for the creation, manipulation, and study of the structure, dynamics, and functions of complex networks.\n",
    "* [ipaddress](https://docs.python.org/3/library/ipaddress.html) - library for IPv4/IPv6 manipulation library.\n",
    "* [requests](https://docs.python-requests.org/en/latest/) - library for HTTP requests.\n",
    "* [json](https://docs.python.org/3/library/json.html) - library for JSON manipulation.\n",
    "\n",
    "The following code block installs the required libraries:"
   ]
  },
  {
   "cell_type": "code",
   "execution_count": 5,
   "metadata": {},
   "outputs": [],
   "source": [
    "%reset\n",
    "\n",
    "# Import libraries\n",
    "import pandas as pd\n",
    "import numpy as np\n",
    "import matplotlib.pyplot as plt\n",
    "import plotly.express as px\n",
    "import networkx as nx\n",
    "import ipaddress\n",
    "import requests, json\n",
    "\n",
    "# Suppress warnings\n",
    "import warnings\n",
    "warnings.filterwarnings('ignore', category=FutureWarning)"
   ]
  },
  {
   "attachments": {},
   "cell_type": "markdown",
   "metadata": {},
   "source": [
    "#### **2.2 Data loading**\n",
    "\n",
    "To load the data, we will use the `pandas` library. The following code block loads the data from the CSV file into a pandas dataframe:"
   ]
  },
  {
   "cell_type": "code",
   "execution_count": 6,
   "metadata": {},
   "outputs": [],
   "source": [
    "SPANS = pd.read_csv('data/traces.csv')\n",
    "RESOURCES = pd.read_csv('data/resources.csv')"
   ]
  },
  {
   "attachments": {},
   "cell_type": "markdown",
   "metadata": {},
   "source": [
    "We will now show the first 5 rows of each dataframe to get a better understanding of the data, starting with the `RESOURCES` dataframe:"
   ]
  },
  {
   "cell_type": "code",
   "execution_count": 8,
   "metadata": {},
   "outputs": [
    {
     "data": {
      "text/html": [
       "<div>\n",
       "<style scoped>\n",
       "    .dataframe tbody tr th:only-of-type {\n",
       "        vertical-align: middle;\n",
       "    }\n",
       "\n",
       "    .dataframe tbody tr th {\n",
       "        vertical-align: top;\n",
       "    }\n",
       "\n",
       "    .dataframe thead th {\n",
       "        text-align: right;\n",
       "    }\n",
       "</style>\n",
       "<table border=\"1\" class=\"dataframe\">\n",
       "  <thead>\n",
       "    <tr style=\"text-align: right;\">\n",
       "      <th></th>\n",
       "      <th>_id</th>\n",
       "      <th>service.name</th>\n",
       "      <th>service.ip_addr</th>\n",
       "      <th>service.version</th>\n",
       "      <th>__v</th>\n",
       "      <th>process.command</th>\n",
       "      <th>process.command_args.0</th>\n",
       "      <th>process.command_args.1</th>\n",
       "      <th>process.command_args.2</th>\n",
       "      <th>process.command_args.3</th>\n",
       "      <th>process.executable.name</th>\n",
       "      <th>process.executable.path</th>\n",
       "      <th>process.owner</th>\n",
       "      <th>process.pid</th>\n",
       "      <th>process.runtime.description</th>\n",
       "      <th>process.runtime.name</th>\n",
       "      <th>process.runtime.version</th>\n",
       "      <th>telemetry.sdk.language</th>\n",
       "      <th>telemetry.sdk.name</th>\n",
       "      <th>telemetry.sdk.version</th>\n",
       "    </tr>\n",
       "  </thead>\n",
       "  <tbody>\n",
       "    <tr>\n",
       "      <th>0</th>\n",
       "      <td>644f08e8f763118528853e9d</td>\n",
       "      <td>microservice-one</td>\n",
       "      <td>172.19.0.4</td>\n",
       "      <td>unknown</td>\n",
       "      <td>0</td>\n",
       "      <td>/opt/app/index.js</td>\n",
       "      <td>/usr/local/bin/node</td>\n",
       "      <td>-r</td>\n",
       "      <td>@restsense/agent/tracing</td>\n",
       "      <td>/opt/app/index.js</td>\n",
       "      <td>node</td>\n",
       "      <td>/usr/local/bin/node</td>\n",
       "      <td>root</td>\n",
       "      <td>26</td>\n",
       "      <td>Node.js</td>\n",
       "      <td>nodejs</td>\n",
       "      <td>16.13.0</td>\n",
       "      <td>nodejs</td>\n",
       "      <td>opentelemetry</td>\n",
       "      <td>1.12.0</td>\n",
       "    </tr>\n",
       "    <tr>\n",
       "      <th>1</th>\n",
       "      <td>644f095af763118528853f0d</td>\n",
       "      <td>microservice-three</td>\n",
       "      <td>172.19.0.3</td>\n",
       "      <td>unknown</td>\n",
       "      <td>0</td>\n",
       "      <td>/opt/app/index.js</td>\n",
       "      <td>/usr/local/bin/node</td>\n",
       "      <td>-r</td>\n",
       "      <td>@restsense/agent/tracing</td>\n",
       "      <td>/opt/app/index.js</td>\n",
       "      <td>node</td>\n",
       "      <td>/usr/local/bin/node</td>\n",
       "      <td>root</td>\n",
       "      <td>26</td>\n",
       "      <td>Node.js</td>\n",
       "      <td>nodejs</td>\n",
       "      <td>16.13.0</td>\n",
       "      <td>nodejs</td>\n",
       "      <td>opentelemetry</td>\n",
       "      <td>1.12.0</td>\n",
       "    </tr>\n",
       "    <tr>\n",
       "      <th>2</th>\n",
       "      <td>644f095af763118528853f0f</td>\n",
       "      <td>microservice-two</td>\n",
       "      <td>172.19.0.2</td>\n",
       "      <td>unknown</td>\n",
       "      <td>0</td>\n",
       "      <td>/opt/app/index.js</td>\n",
       "      <td>/usr/local/bin/node</td>\n",
       "      <td>-r</td>\n",
       "      <td>@restsense/agent/tracing</td>\n",
       "      <td>/opt/app/index.js</td>\n",
       "      <td>node</td>\n",
       "      <td>/usr/local/bin/node</td>\n",
       "      <td>root</td>\n",
       "      <td>26</td>\n",
       "      <td>Node.js</td>\n",
       "      <td>nodejs</td>\n",
       "      <td>16.13.0</td>\n",
       "      <td>nodejs</td>\n",
       "      <td>opentelemetry</td>\n",
       "      <td>1.12.0</td>\n",
       "    </tr>\n",
       "  </tbody>\n",
       "</table>\n",
       "</div>"
      ],
      "text/plain": [
       "                        _id        service.name service.ip_addr  \\\n",
       "0  644f08e8f763118528853e9d    microservice-one      172.19.0.4   \n",
       "1  644f095af763118528853f0d  microservice-three      172.19.0.3   \n",
       "2  644f095af763118528853f0f    microservice-two      172.19.0.2   \n",
       "\n",
       "  service.version  __v    process.command process.command_args.0  \\\n",
       "0         unknown    0  /opt/app/index.js    /usr/local/bin/node   \n",
       "1         unknown    0  /opt/app/index.js    /usr/local/bin/node   \n",
       "2         unknown    0  /opt/app/index.js    /usr/local/bin/node   \n",
       "\n",
       "  process.command_args.1    process.command_args.2 process.command_args.3  \\\n",
       "0                     -r  @restsense/agent/tracing      /opt/app/index.js   \n",
       "1                     -r  @restsense/agent/tracing      /opt/app/index.js   \n",
       "2                     -r  @restsense/agent/tracing      /opt/app/index.js   \n",
       "\n",
       "  process.executable.name process.executable.path process.owner  process.pid  \\\n",
       "0                    node     /usr/local/bin/node          root           26   \n",
       "1                    node     /usr/local/bin/node          root           26   \n",
       "2                    node     /usr/local/bin/node          root           26   \n",
       "\n",
       "  process.runtime.description process.runtime.name process.runtime.version  \\\n",
       "0                     Node.js               nodejs                 16.13.0   \n",
       "1                     Node.js               nodejs                 16.13.0   \n",
       "2                     Node.js               nodejs                 16.13.0   \n",
       "\n",
       "  telemetry.sdk.language telemetry.sdk.name telemetry.sdk.version  \n",
       "0                 nodejs      opentelemetry                1.12.0  \n",
       "1                 nodejs      opentelemetry                1.12.0  \n",
       "2                 nodejs      opentelemetry                1.12.0  "
      ]
     },
     "execution_count": 8,
     "metadata": {},
     "output_type": "execute_result"
    }
   ],
   "source": [
    "RESOURCES.head(5)"
   ]
  },
  {
   "attachments": {},
   "cell_type": "markdown",
   "metadata": {},
   "source": [
    "Now, we will show the first 5 rows of the `SPANS` dataframe:"
   ]
  },
  {
   "cell_type": "code",
   "execution_count": 9,
   "metadata": {},
   "outputs": [
    {
     "data": {
      "text/html": [
       "<div>\n",
       "<style scoped>\n",
       "    .dataframe tbody tr th:only-of-type {\n",
       "        vertical-align: middle;\n",
       "    }\n",
       "\n",
       "    .dataframe tbody tr th {\n",
       "        vertical-align: top;\n",
       "    }\n",
       "\n",
       "    .dataframe thead th {\n",
       "        text-align: right;\n",
       "    }\n",
       "</style>\n",
       "<table border=\"1\" class=\"dataframe\">\n",
       "  <thead>\n",
       "    <tr style=\"text-align: right;\">\n",
       "      <th></th>\n",
       "      <th>_id</th>\n",
       "      <th>name</th>\n",
       "      <th>span_id</th>\n",
       "      <th>trace_id</th>\n",
       "      <th>parent_span_id</th>\n",
       "      <th>start_time</th>\n",
       "      <th>end_time</th>\n",
       "      <th>attributes.target.net.peer.ip</th>\n",
       "      <th>attributes.target.net.peer.port</th>\n",
       "      <th>attributes.operation.http.url</th>\n",
       "      <th>...</th>\n",
       "      <th>attributes.operation.http.status_text</th>\n",
       "      <th>metadata.scope</th>\n",
       "      <th>metadata.resource_id</th>\n",
       "      <th>metadata.schema_url</th>\n",
       "      <th>__v</th>\n",
       "      <th>attributes.operation.http.response_content_length_uncompressed</th>\n",
       "      <th>attributes.source.net.host.ip</th>\n",
       "      <th>attributes.source.net.host.port</th>\n",
       "      <th>attributes.operation.http.user_agent</th>\n",
       "      <th>attributes.operation.http.request_content_length_uncompressed</th>\n",
       "    </tr>\n",
       "  </thead>\n",
       "  <tbody>\n",
       "    <tr>\n",
       "      <th>0</th>\n",
       "      <td>644f095a8f303ba50af78c43</td>\n",
       "      <td>GET</td>\n",
       "      <td>8ca6e56627ab94ce</td>\n",
       "      <td>a6944968e1866b0987dc3f814e205a50</td>\n",
       "      <td>f3ce3ce0cc5d50f7</td>\n",
       "      <td>2023-05-01T00:35:33.175Z</td>\n",
       "      <td>2023-05-01T00:35:33.617Z</td>\n",
       "      <td>140.82.121.5</td>\n",
       "      <td>443</td>\n",
       "      <td>https://api.github.com/orgs/oas-tools</td>\n",
       "      <td>...</td>\n",
       "      <td>OK</td>\n",
       "      <td>@opentelemetry/instrumentation-http@0.38.0</td>\n",
       "      <td>644f095af763118528853f0d</td>\n",
       "      <td>NaN</td>\n",
       "      <td>0</td>\n",
       "      <td>NaN</td>\n",
       "      <td>NaN</td>\n",
       "      <td>NaN</td>\n",
       "      <td>NaN</td>\n",
       "      <td>NaN</td>\n",
       "    </tr>\n",
       "    <tr>\n",
       "      <th>1</th>\n",
       "      <td>644f095a8f303ba50af78c44</td>\n",
       "      <td>POST</td>\n",
       "      <td>c70448d8be8654bc</td>\n",
       "      <td>a6944968e1866b0987dc3f814e205a50</td>\n",
       "      <td>f3ce3ce0cc5d50f7</td>\n",
       "      <td>2023-05-01T00:35:33.191Z</td>\n",
       "      <td>2023-05-01T00:35:33.689Z</td>\n",
       "      <td>172.19.0.2</td>\n",
       "      <td>80</td>\n",
       "      <td>http://microservice-two/api/v1/request</td>\n",
       "      <td>...</td>\n",
       "      <td>OK</td>\n",
       "      <td>@opentelemetry/instrumentation-http@0.38.0</td>\n",
       "      <td>644f095af763118528853f0d</td>\n",
       "      <td>NaN</td>\n",
       "      <td>0</td>\n",
       "      <td>1513.0</td>\n",
       "      <td>NaN</td>\n",
       "      <td>NaN</td>\n",
       "      <td>NaN</td>\n",
       "      <td>NaN</td>\n",
       "    </tr>\n",
       "    <tr>\n",
       "      <th>2</th>\n",
       "      <td>644f095a8f303ba50af78c45</td>\n",
       "      <td>POST</td>\n",
       "      <td>eead91e3037ffd84</td>\n",
       "      <td>a6944968e1866b0987dc3f814e205a50</td>\n",
       "      <td>f3ce3ce0cc5d50f7</td>\n",
       "      <td>2023-05-01T00:35:33.196Z</td>\n",
       "      <td>2023-05-01T00:35:33.744Z</td>\n",
       "      <td>172.19.0.2</td>\n",
       "      <td>80</td>\n",
       "      <td>http://microservice-two/api/v1/request</td>\n",
       "      <td>...</td>\n",
       "      <td>OK</td>\n",
       "      <td>@opentelemetry/instrumentation-http@0.38.0</td>\n",
       "      <td>644f095af763118528853f0d</td>\n",
       "      <td>NaN</td>\n",
       "      <td>0</td>\n",
       "      <td>1513.0</td>\n",
       "      <td>NaN</td>\n",
       "      <td>NaN</td>\n",
       "      <td>NaN</td>\n",
       "      <td>NaN</td>\n",
       "    </tr>\n",
       "    <tr>\n",
       "      <th>3</th>\n",
       "      <td>644f095a8f303ba50af78c46</td>\n",
       "      <td>POST</td>\n",
       "      <td>308bdc922fc97943</td>\n",
       "      <td>a6944968e1866b0987dc3f814e205a50</td>\n",
       "      <td>f3ce3ce0cc5d50f7</td>\n",
       "      <td>2023-05-01T00:35:33.193Z</td>\n",
       "      <td>2023-05-01T00:35:33.781Z</td>\n",
       "      <td>172.19.0.2</td>\n",
       "      <td>80</td>\n",
       "      <td>http://microservice-two/api/v1/request</td>\n",
       "      <td>...</td>\n",
       "      <td>OK</td>\n",
       "      <td>@opentelemetry/instrumentation-http@0.38.0</td>\n",
       "      <td>644f095af763118528853f0d</td>\n",
       "      <td>NaN</td>\n",
       "      <td>0</td>\n",
       "      <td>1513.0</td>\n",
       "      <td>NaN</td>\n",
       "      <td>NaN</td>\n",
       "      <td>NaN</td>\n",
       "      <td>NaN</td>\n",
       "    </tr>\n",
       "    <tr>\n",
       "      <th>4</th>\n",
       "      <td>644f095a8f303ba50af78c47</td>\n",
       "      <td>POST</td>\n",
       "      <td>f3ce3ce0cc5d50f7</td>\n",
       "      <td>a6944968e1866b0987dc3f814e205a50</td>\n",
       "      <td>34bd5c30cdab2436</td>\n",
       "      <td>2023-05-01T00:35:33.120Z</td>\n",
       "      <td>2023-05-01T00:35:33.811Z</td>\n",
       "      <td>::ffff:172.19.0.4</td>\n",
       "      <td>55142</td>\n",
       "      <td>http://microservice-three/api/v1/request</td>\n",
       "      <td>...</td>\n",
       "      <td>OK</td>\n",
       "      <td>@opentelemetry/instrumentation-http@0.38.0</td>\n",
       "      <td>644f095af763118528853f0d</td>\n",
       "      <td>NaN</td>\n",
       "      <td>0</td>\n",
       "      <td>NaN</td>\n",
       "      <td>::ffff:172.19.0.3</td>\n",
       "      <td>80.0</td>\n",
       "      <td>axios/1.4.0</td>\n",
       "      <td>883.0</td>\n",
       "    </tr>\n",
       "  </tbody>\n",
       "</table>\n",
       "<p>5 rows × 23 columns</p>\n",
       "</div>"
      ],
      "text/plain": [
       "                        _id  name           span_id  \\\n",
       "0  644f095a8f303ba50af78c43   GET  8ca6e56627ab94ce   \n",
       "1  644f095a8f303ba50af78c44  POST  c70448d8be8654bc   \n",
       "2  644f095a8f303ba50af78c45  POST  eead91e3037ffd84   \n",
       "3  644f095a8f303ba50af78c46  POST  308bdc922fc97943   \n",
       "4  644f095a8f303ba50af78c47  POST  f3ce3ce0cc5d50f7   \n",
       "\n",
       "                           trace_id    parent_span_id  \\\n",
       "0  a6944968e1866b0987dc3f814e205a50  f3ce3ce0cc5d50f7   \n",
       "1  a6944968e1866b0987dc3f814e205a50  f3ce3ce0cc5d50f7   \n",
       "2  a6944968e1866b0987dc3f814e205a50  f3ce3ce0cc5d50f7   \n",
       "3  a6944968e1866b0987dc3f814e205a50  f3ce3ce0cc5d50f7   \n",
       "4  a6944968e1866b0987dc3f814e205a50  34bd5c30cdab2436   \n",
       "\n",
       "                 start_time                  end_time  \\\n",
       "0  2023-05-01T00:35:33.175Z  2023-05-01T00:35:33.617Z   \n",
       "1  2023-05-01T00:35:33.191Z  2023-05-01T00:35:33.689Z   \n",
       "2  2023-05-01T00:35:33.196Z  2023-05-01T00:35:33.744Z   \n",
       "3  2023-05-01T00:35:33.193Z  2023-05-01T00:35:33.781Z   \n",
       "4  2023-05-01T00:35:33.120Z  2023-05-01T00:35:33.811Z   \n",
       "\n",
       "  attributes.target.net.peer.ip  attributes.target.net.peer.port  \\\n",
       "0                  140.82.121.5                              443   \n",
       "1                    172.19.0.2                               80   \n",
       "2                    172.19.0.2                               80   \n",
       "3                    172.19.0.2                               80   \n",
       "4             ::ffff:172.19.0.4                            55142   \n",
       "\n",
       "              attributes.operation.http.url  ...  \\\n",
       "0     https://api.github.com/orgs/oas-tools  ...   \n",
       "1    http://microservice-two/api/v1/request  ...   \n",
       "2    http://microservice-two/api/v1/request  ...   \n",
       "3    http://microservice-two/api/v1/request  ...   \n",
       "4  http://microservice-three/api/v1/request  ...   \n",
       "\n",
       "  attributes.operation.http.status_text  \\\n",
       "0                                    OK   \n",
       "1                                    OK   \n",
       "2                                    OK   \n",
       "3                                    OK   \n",
       "4                                    OK   \n",
       "\n",
       "                               metadata.scope      metadata.resource_id  \\\n",
       "0  @opentelemetry/instrumentation-http@0.38.0  644f095af763118528853f0d   \n",
       "1  @opentelemetry/instrumentation-http@0.38.0  644f095af763118528853f0d   \n",
       "2  @opentelemetry/instrumentation-http@0.38.0  644f095af763118528853f0d   \n",
       "3  @opentelemetry/instrumentation-http@0.38.0  644f095af763118528853f0d   \n",
       "4  @opentelemetry/instrumentation-http@0.38.0  644f095af763118528853f0d   \n",
       "\n",
       "  metadata.schema_url __v  \\\n",
       "0                 NaN   0   \n",
       "1                 NaN   0   \n",
       "2                 NaN   0   \n",
       "3                 NaN   0   \n",
       "4                 NaN   0   \n",
       "\n",
       "  attributes.operation.http.response_content_length_uncompressed  \\\n",
       "0                                                NaN               \n",
       "1                                             1513.0               \n",
       "2                                             1513.0               \n",
       "3                                             1513.0               \n",
       "4                                                NaN               \n",
       "\n",
       "   attributes.source.net.host.ip  attributes.source.net.host.port  \\\n",
       "0                            NaN                              NaN   \n",
       "1                            NaN                              NaN   \n",
       "2                            NaN                              NaN   \n",
       "3                            NaN                              NaN   \n",
       "4              ::ffff:172.19.0.3                             80.0   \n",
       "\n",
       "   attributes.operation.http.user_agent  \\\n",
       "0                                   NaN   \n",
       "1                                   NaN   \n",
       "2                                   NaN   \n",
       "3                                   NaN   \n",
       "4                           axios/1.4.0   \n",
       "\n",
       "  attributes.operation.http.request_content_length_uncompressed  \n",
       "0                                                NaN             \n",
       "1                                                NaN             \n",
       "2                                                NaN             \n",
       "3                                                NaN             \n",
       "4                                              883.0             \n",
       "\n",
       "[5 rows x 23 columns]"
      ]
     },
     "execution_count": 9,
     "metadata": {},
     "output_type": "execute_result"
    }
   ],
   "source": [
    "SPANS.head(5)"
   ]
  },
  {
   "attachments": {},
   "cell_type": "markdown",
   "metadata": {},
   "source": [
    "#### **2.3 Preprocessing**\n",
    "\n",
    "The preprocessing step consists of cleaning the data and extracting the relevant information from it. The preprocessing steps performed on the `SPANS` dataframe are as follows:\n",
    "\n",
    "1. Drop the `_id`, `__v`, `metadata.scope`, `name` and `metadata.shema_url` columns, since we will not be using them.\n",
    "2. Rename the columns to make them more readable.\n",
    "3. Parse the column values to the appropriate data types.\n",
    "4. Merge columns that are related to the same concept:\n",
    "    * `request_method` and `request_url` are merged into `request`.\n",
    "    * `response_status_code` and `response_status_text` are merged into `response_status`.\n",
    "5. Drop the merged columns."
   ]
  },
  {
   "cell_type": "code",
   "execution_count": 10,
   "metadata": {},
   "outputs": [],
   "source": [
    "# DROP UNNECESSARY COLUMNS\n",
    "SPANS = SPANS.drop([\n",
    "    '_id', '__v', 'metadata.scope',\n",
    "    'name', 'metadata.schema_url'\n",
    "    ], axis=1)\n",
    "\n",
    "# RENAME COLUMNS\n",
    "SPANS = SPANS.rename(columns= {\n",
    "    'attributes.source.net.host.ip': 'source_ip',\n",
    "    'attributes.source.net.host.port': 'source_port',\n",
    "    'attributes.target.net.peer.ip': 'target_ip',\n",
    "    'attributes.target.net.peer.port': 'target_port',\n",
    "    'attributes.operation.http.url': 'request_url',\n",
    "    'attributes.operation.http.method': 'request_method',\n",
    "    'attributes.operation.http.request_content_length_uncompressed': 'request_content_length',\n",
    "    'attributes.operation.http.status_code': 'response_status_code',\n",
    "    'attributes.operation.http.status_text': 'response_status_text',\n",
    "    'attributes.operation.http.response_content_length_uncompressed': 'response_content_length',\n",
    "    'attributes.operation.http.user_agent': 'user_agent',\n",
    "    'attributes.operation.http.host': 'http_host',\n",
    "    'metadata.resource': 'resource_id',\n",
    "})\n",
    "\n",
    "# PARSE COLUMN VALUES\n",
    "SPANS['start_time'] = pd.to_datetime(SPANS['start_time'])\n",
    "SPANS['end_time'] = pd.to_datetime(SPANS['end_time'])\n",
    "SPANS['duration'] = pd.to_timedelta(SPANS['end_time'] - SPANS['start_time']).dt.total_seconds() * 1000\n",
    "SPANS['request_content_length'] = pd.to_numeric(SPANS['request_content_length'])\n",
    "SPANS['response_content_length'] = pd.to_numeric(SPANS['response_content_length'])\n",
    "\n",
    "# MERGE COLUMN VALUES\n",
    "SPANS['request'] = SPANS['request_method'] + ' ' + SPANS['request_url']\n",
    "SPANS['response'] = SPANS['response_status_code'].astype(str) + ' ' + SPANS['response_status_text']\n",
    "\n",
    "# DROP MERGED COLUMNS\n",
    "SPANS = SPANS.drop(['request_method', 'request_url', 'response_status_code', 'response_status_text'], axis=1)"
   ]
  },
  {
   "attachments": {},
   "cell_type": "markdown",
   "metadata": {},
   "source": [
    "On the other hand, the preprocessing steps performed on the `RESOURCES` dataframe are as follows:\n",
    "\n",
    "1. Drop the `__v`, `process.command`, `process.executable.name`, `process.executable.path` and `process.runtime.description` columns, since we will not be using them.\n",
    "2. Rename the columns to make them more readable.\n",
    "3. Merge columns that are related to the same concept:\n",
    "    * The array of arguments of `process.command_args` is joint into `process.command` column.\n",
    "    * `telemetry_language`, `telemetry_name` and `telemetry_version` are merged into `telemetry_sdk` following the `lang/name:version` format.\n",
    "    * `runtime_name` and `runtime_version` are merged into `runtime` following the `name:version` format.\n",
    "4. Drop the merged columns."
   ]
  },
  {
   "cell_type": "code",
   "execution_count": 11,
   "metadata": {},
   "outputs": [],
   "source": [
    "# DROP UNNECESSARY COLUMNS\n",
    "RESOURCES = RESOURCES.drop([\n",
    "    '__v', 'process.command', 'process.executable.name', 'process.executable.path', 'process.runtime.description'\n",
    "], axis=1)\n",
    "\n",
    "RESOURCES = RESOURCES.rename(columns= {\n",
    "    'service.name': 'service_name',\n",
    "    'service.version': 'service_version',\n",
    "    'service.ip_addr': 'service_ip',\n",
    "    'process.pid': 'pid',\n",
    "    'process.owner': 'owner',\n",
    "    'telemetry.sdk.language': 'telemetry_language',\n",
    "    'telemetry.sdk.name': 'telemetry_name',\n",
    "    'telemetry.sdk.version': 'telemetry_version',\n",
    "    'process.runtime.name': 'runtime_name',\n",
    "    'process.runtime.version': 'runtime_version',\n",
    "})\n",
    "\n",
    "# MERGE COLUMN VALUES\n",
    "RESOURCES['command'] = RESOURCES['process.command_args.0'] + \" \" + RESOURCES['process.command_args.1'] + \" \" + RESOURCES['process.command_args.2'] + \" \" + RESOURCES['process.command_args.3']\n",
    "RESOURCES['telemetry_sdk'] = RESOURCES['telemetry_language'] + \"/\" + RESOURCES['telemetry_name'] + \":\" + RESOURCES['telemetry_version']\n",
    "RESOURCES['runtime'] = RESOURCES['runtime_name'] + \":\" + RESOURCES['runtime_version']\n",
    "\n",
    "# DROP MERGED COLUMNS\n",
    "RESOURCES = RESOURCES.drop([\n",
    "    'telemetry_language', 'telemetry_name', 'telemetry_version',\n",
    "    'runtime_name', 'runtime_version', 'process.command_args.0',\n",
    "    'process.command_args.1', 'process.command_args.2', 'process.command_args.3'\n",
    "], axis=1)"
   ]
  },
  {
   "attachments": {},
   "cell_type": "markdown",
   "metadata": {},
   "source": [
    "---\n",
    "\n",
    "### **3. Exploratory Data Analysis**\n",
    "\n",
    "In this section, we will perform an exploratory data analysis (EDA) to gain a better understanding of the data. The EDA will consist of data visualization and topology inference. Before proceeding with the EDA, we will first extract the traces from the `SPANS` dataframe.\n"
   ]
  },
  {
   "cell_type": "code",
   "execution_count": 22,
   "metadata": {},
   "outputs": [
    {
     "data": {
      "text/html": [
       "<div>\n",
       "<style scoped>\n",
       "    .dataframe tbody tr th:only-of-type {\n",
       "        vertical-align: middle;\n",
       "    }\n",
       "\n",
       "    .dataframe tbody tr th {\n",
       "        vertical-align: top;\n",
       "    }\n",
       "\n",
       "    .dataframe thead th {\n",
       "        text-align: right;\n",
       "    }\n",
       "</style>\n",
       "<table border=\"1\" class=\"dataframe\">\n",
       "  <thead>\n",
       "    <tr style=\"text-align: right;\">\n",
       "      <th></th>\n",
       "      <th>trace_id</th>\n",
       "    </tr>\n",
       "  </thead>\n",
       "  <tbody>\n",
       "    <tr>\n",
       "      <th>0</th>\n",
       "      <td>a6944968e1866b0987dc3f814e205a50</td>\n",
       "    </tr>\n",
       "    <tr>\n",
       "      <th>1</th>\n",
       "      <td>90a55847370e8a1ff966ecbd8df42687</td>\n",
       "    </tr>\n",
       "    <tr>\n",
       "      <th>2</th>\n",
       "      <td>1f749818e00792684011b77e5e7183fc</td>\n",
       "    </tr>\n",
       "    <tr>\n",
       "      <th>3</th>\n",
       "      <td>c901c229b040e19ec2c947775caf6a5c</td>\n",
       "    </tr>\n",
       "    <tr>\n",
       "      <th>4</th>\n",
       "      <td>e41ea1fc90653470882401f8c48bb7b9</td>\n",
       "    </tr>\n",
       "    <tr>\n",
       "      <th>5</th>\n",
       "      <td>c754bcc67a3aba739a4b804e5581ab6b</td>\n",
       "    </tr>\n",
       "    <tr>\n",
       "      <th>6</th>\n",
       "      <td>61fa3a93d182593af9884a932ff950ed</td>\n",
       "    </tr>\n",
       "  </tbody>\n",
       "</table>\n",
       "</div>"
      ],
      "text/plain": [
       "                           trace_id\n",
       "0  a6944968e1866b0987dc3f814e205a50\n",
       "1  90a55847370e8a1ff966ecbd8df42687\n",
       "2  1f749818e00792684011b77e5e7183fc\n",
       "3  c901c229b040e19ec2c947775caf6a5c\n",
       "4  e41ea1fc90653470882401f8c48bb7b9\n",
       "5  c754bcc67a3aba739a4b804e5581ab6b\n",
       "6  61fa3a93d182593af9884a932ff950ed"
      ]
     },
     "execution_count": 22,
     "metadata": {},
     "output_type": "execute_result"
    }
   ],
   "source": [
    "TRACES = SPANS['trace_id'].unique() # Get traces ids\n",
    "pd.DataFrame(TRACES, columns=['trace_id']) # Convert to dataframe for visualization"
   ]
  },
  {
   "attachments": {},
   "cell_type": "markdown",
   "metadata": {},
   "source": [
    "We will now visualize the data to gain a better understanding of the data. We will first define functions that will help us build different types of graphs.\n",
    "\n",
    "First, we will sort the `SPANS` dataframe recursively following a depth-first search (DFS) approach. This will allow us to easily extract the traces from the dataframe while respecting the hierarchy of the spans. The following code block defines the recursive function to do so, using tail call optimization to avoid stack overflow:"
   ]
  },
  {
   "cell_type": "code",
   "execution_count": 12,
   "metadata": {},
   "outputs": [],
   "source": [
    "# SORT SPANS INSIDE A TRACE FOLLOWING THE PARENT-CHILD RELATIONSHIP IN DFS ORDER\n",
    "def trace_dfs_sort_recursive(trace, parent, acc):\n",
    "    if len(acc) == len(trace):\n",
    "        return acc\n",
    "    else:\n",
    "        children = trace.loc[trace['parent_span_id'] == parent['span_id']].sort_values(by=['start_time'])\n",
    "        for i, child in children.iterrows():\n",
    "            acc = acc.append(child)\n",
    "            acc = trace_dfs_sort_recursive(trace, child, acc)\n",
    "        return acc\n",
    "\n",
    "def trace_dfs_sort(trace_id):\n",
    "    trace = SPANS.loc[SPANS['trace_id'] == trace_id]\n",
    "    processed = pd.DataFrame(columns=trace.columns)\n",
    "    parent = trace.loc[pd.isna(trace['parent_span_id'])].iloc[0]\n",
    "    processed = processed.append(parent)\n",
    "    children = trace.loc[trace['parent_span_id'] == parent['span_id']].sort_values(by=['start_time'])\n",
    "    for i, child in children.iterrows():\n",
    "        processed = processed.append(child)\n",
    "        processed = trace_dfs_sort_recursive(trace, child, processed)\n",
    "    return processed.reset_index(drop=True)"
   ]
  },
  {
   "attachments": {},
   "cell_type": "markdown",
   "metadata": {},
   "source": [
    "Now, we will define a function to get the hostname of a given IP address. This will allow us to display the hostnames instead of the IP addresses in the graphs. To do so, we will look for the IP address in the `RESOURCES` dataframe and return the hostname if found. It is important to note that this function must be compliant with the [RESTSense datamodel specification](https://github.com/restsense/specification/tree/main/schemas/1.0.0), which states that depending on the type of span, the hostname should be extracted from the HOST header, or from the resource itself. The following code block defines the function: "
   ]
  },
  {
   "cell_type": "code",
   "execution_count": 13,
   "metadata": {},
   "outputs": [],
   "source": [
    "# GET THE HOST BASED ON IP\n",
    "def get_host(span, scope):\n",
    "    # When no source is declared, it is a request. Thus, thesource is the resource\n",
    "    if scope == 'source' and pd.isna(span['source_ip']):\n",
    "        return RESOURCES.loc[RESOURCES['_id'] == span['resource_id']]['service_name'].iloc[0]\n",
    "    \n",
    "    # When source does exist, it is a response. Thus, source must match http host\n",
    "    elif scope == 'source' and not pd.isna(span['source_ip']): \n",
    "        return span['http_host']\n",
    "        \n",
    "    # When source does exist, it is a response. Thus, we look in resources for the target ip\n",
    "    elif scope == 'target' and not pd.isna(span['source_ip']):\n",
    "        host_name = RESOURCES.loc[RESOURCES['service_ip'] == span['target_ip'].replace(\"::ffff:\", '')]['service_name']\n",
    "        if len(host_name) > 0:\n",
    "            return host_name.iloc[0]\n",
    "        else:\n",
    "            return 'external/uninstrumented'\n",
    "    \n",
    "    # On requests, the target is always the http host\n",
    "    else:\n",
    "        return span['http_host']"
   ]
  },
  {
   "attachments": {},
   "cell_type": "markdown",
   "metadata": {},
   "source": [
    "Now we can define a function to build a cascade diagram using [plotly](https://plotly.com/). Cascade diagrams are useful for visualizing the hierarchy of spans, as well as the duration of each span. The following code block defines the function:"
   ]
  },
  {
   "cell_type": "code",
   "execution_count": 14,
   "metadata": {},
   "outputs": [],
   "source": [
    "def draw_trace(trace_id):\n",
    "    # Get DFS SORTED TRACE\n",
    "    TRACE = trace_dfs_sort(trace_id)    \n",
    "\n",
    "    # ADD SOURCE AND TARGET COLUMNS FOR EXTRA INFORMATION\n",
    "    TRACE['source'] = TRACE.apply(lambda x: f\"{get_host(x, 'source')}({x['source_ip'] + ':' + str(x['source_port']) if not pd.isna(x['source_ip']) else RESOURCES.loc[RESOURCES['_id'] == x['resource_id']]['service_ip'].iloc[0]})\", axis=1)\n",
    "    TRACE['target'] = TRACE.apply(lambda x: f\"{get_host(x, 'target')}({x['target_ip']}:{x['target_port']})\", axis=1)\n",
    "\n",
    "    # PLOT TRACE\n",
    "    fig = px.timeline(TRACE, x_start=\"start_time\", x_end=\"end_time\",\n",
    "        y=\"span_id\", hover_data={\"span_id\": False, \"duration\": False, \"source\": True, \"target\": True, \"response\": True},\n",
    "        text=\"duration\", hover_name=\"request\", title=\"Trace: \" + TRACES[0],\n",
    "    )\n",
    "    fig.update_yaxes(showticklabels=False, autorange=\"reversed\")\n",
    "    fig.show()"
   ]
  },
  {
   "attachments": {},
   "cell_type": "markdown",
   "metadata": {},
   "source": [
    "Additionally, we will define a function that helps us build a network graph. To do so, we will use the [networkx](https://networkx.org/) library. The following code block defines the function:"
   ]
  },
  {
   "cell_type": "code",
   "execution_count": 15,
   "metadata": {},
   "outputs": [],
   "source": [
    "def draw_network(G):\n",
    "    # DRAW GRAPH\n",
    "    pos = nx.spring_layout(G, k=0.5, iterations=50, seed=46)\n",
    "    nx.draw(G, pos, with_labels=False, font_weight='bold', node_size=1500, width=2)\n",
    "    edge_labels = nx.get_edge_attributes(G, 'weight')\n",
    "    node_labels = map(lambda x: f\"{RESOURCES[RESOURCES['service_ip'] == x]['service_name'].iloc[0] if len(RESOURCES[RESOURCES['service_ip'] == x]['service_name']) > 0 else 'external/uninstrumented'}\\n({x})\", list(nx.nodes(G)))\n",
    "    nx.draw_networkx_edge_labels(G, pos, edge_labels=edge_labels, font_size=10)\n",
    "    nx.draw_networkx_labels(G, pos, labels=dict(zip(list(nx.nodes(G)), node_labels)), font_size=8)\n",
    "    ax = plt.gca()\n",
    "    ax.margins(0.20)\n",
    "\n",
    "    plt.title(\"Topology for \" + G.graph['name'] )\n",
    "    plt.show()"
   ]
  },
  {
   "attachments": {},
   "cell_type": "markdown",
   "metadata": {},
   "source": [
    "#### **3.1 Data visualization**\n",
    "\n",
    "Once we have defined the functions to build the graphs, we can now visualize the data. We will start by visualizing the traces using a cascade diagram. We will visualize the first trace in the `TRACES` list. You can change the index to visualize a different trace."
   ]
  },
  {
   "cell_type": "code",
   "execution_count": 33,
   "metadata": {},
   "outputs": [],
   "source": [
    "TRACE = TRACES[0]"
   ]
  },
  {
   "attachments": {},
   "cell_type": "markdown",
   "metadata": {},
   "source": [
    "To plot the cascade diagram, we will use the `draw_trace` function defined above. The following code block plots the cascade diagram:"
   ]
  },
  {
   "cell_type": "code",
   "execution_count": 34,
   "metadata": {},
   "outputs": [
    {
     "data": {
      "application/vnd.plotly.v1+json": {
       "config": {
        "plotlyServerURL": "https://plot.ly"
       },
       "data": [
        {
         "alignmentgroup": "True",
         "base": [
          "2023-05-01T00:35:33.043000+00:00",
          "2023-05-01T00:35:33.104000+00:00",
          "2023-05-01T00:35:33.120000+00:00",
          "2023-05-01T00:35:33.171000+00:00",
          "2023-05-01T00:35:33.109000+00:00",
          "2023-05-01T00:35:33.187000+00:00",
          "2023-05-01T00:35:33.214000+00:00",
          "2023-05-01T00:35:33.111000+00:00",
          "2023-05-01T00:35:33.120000+00:00",
          "2023-05-01T00:35:33.175000+00:00",
          "2023-05-01T00:35:33.191000+00:00",
          "2023-05-01T00:35:33.217000+00:00",
          "2023-05-01T00:35:33.246000+00:00",
          "2023-05-01T00:35:33.193000+00:00",
          "2023-05-01T00:35:33.249000+00:00",
          "2023-05-01T00:35:33.272000+00:00",
          "2023-05-01T00:35:33.196000+00:00",
          "2023-05-01T00:35:33.273000+00:00",
          "2023-05-01T00:35:33.289000+00:00"
         ],
         "customdata": [
          [
           795,
           "localhost:8080(::ffff:172.19.0.4:80.0)",
           "external/uninstrumented(::ffff:172.19.0.1:58648)",
           "200 OK"
          ],
          [
           605,
           "microservice-one(172.19.0.4)",
           "microservice-two:80(172.19.0.2:80)",
           "200 OK"
          ],
          [
           588.0000000000001,
           "microservice-two(::ffff:172.19.0.2:80.0)",
           "microservice-one(::ffff:172.19.0.4:47200)",
           "200 OK"
          ],
          [
           493.00000000000006,
           "microservice-two(172.19.0.2)",
           "api.github.com:443(140.82.121.5:443)",
           "200 OK"
          ],
          [
           553,
           "microservice-one(172.19.0.4)",
           "microservice-two:80(172.19.0.2:80)",
           "200 OK"
          ],
          [
           474.00000000000006,
           "microservice-two(::ffff:172.19.0.2:80.0)",
           "microservice-one(::ffff:172.19.0.4:47202)",
           "200 OK"
          ],
          [
           410.00000000000006,
           "microservice-two(172.19.0.2)",
           "api.github.com:443(140.82.121.5:443)",
           "200 OK"
          ],
          [
           700.0000000000001,
           "microservice-one(172.19.0.4)",
           "microservice-three:80(172.19.0.3:80)",
           "200 OK"
          ],
          [
           691.0000000000001,
           "microservice-three(::ffff:172.19.0.3:80.0)",
           "microservice-one(::ffff:172.19.0.4:55142)",
           "200 OK"
          ],
          [
           442,
           "microservice-three(172.19.0.3)",
           "api.github.com:443(140.82.121.5:443)",
           "200 OK"
          ],
          [
           498.00000000000006,
           "microservice-three(172.19.0.3)",
           "microservice-two:80(172.19.0.2:80)",
           "200 OK"
          ],
          [
           472.00000000000006,
           "microservice-two(::ffff:172.19.0.2:80.0)",
           "microservice-three(::ffff:172.19.0.3:39578)",
           "200 OK"
          ],
          [
           416.00000000000006,
           "microservice-two(172.19.0.2)",
           "api.github.com:443(140.82.121.5:443)",
           "200 OK"
          ],
          [
           588.0000000000001,
           "microservice-three(172.19.0.3)",
           "microservice-two:80(172.19.0.2:80)",
           "200 OK"
          ],
          [
           531,
           "microservice-two(::ffff:172.19.0.2:80.0)",
           "microservice-three(::ffff:172.19.0.3:39580)",
           "200 OK"
          ],
          [
           476.00000000000006,
           "microservice-two(172.19.0.2)",
           "api.github.com:443(140.82.121.5:443)",
           "200 OK"
          ],
          [
           548,
           "microservice-three(172.19.0.3)",
           "microservice-two:80(172.19.0.2:80)",
           "200 OK"
          ],
          [
           470.00000000000006,
           "microservice-two(::ffff:172.19.0.2:80.0)",
           "microservice-three(::ffff:172.19.0.3:39582)",
           "200 OK"
          ],
          [
           421.00000000000006,
           "microservice-two(172.19.0.2)",
           "api.github.com:443(140.82.121.5:443)",
           "200 OK"
          ]
         ],
         "hovertemplate": "<b>%{hovertext}</b><br><br>start_time=%{base}<br>end_time=%{x}<br>source=%{customdata[1]}<br>target=%{customdata[2]}<br>response=%{customdata[3]}<extra></extra>",
         "hovertext": [
          "POST http://localhost:8080/api/v1/request",
          "POST http://microservice-two/api/v1/request",
          "POST http://microservice-two/api/v1/request",
          "GET https://api.github.com/users/alesancor1",
          "POST http://microservice-two/api/v1/request",
          "POST http://microservice-two/api/v1/request",
          "GET https://api.github.com/users/alesancor1",
          "POST http://microservice-three/api/v1/request",
          "POST http://microservice-three/api/v1/request",
          "GET https://api.github.com/orgs/oas-tools",
          "POST http://microservice-two/api/v1/request",
          "POST http://microservice-two/api/v1/request",
          "GET https://api.github.com/users/alesancor1",
          "POST http://microservice-two/api/v1/request",
          "POST http://microservice-two/api/v1/request",
          "GET https://api.github.com/users/alesancor1",
          "POST http://microservice-two/api/v1/request",
          "POST http://microservice-two/api/v1/request",
          "GET https://api.github.com/users/alesancor1"
         ],
         "legendgroup": "",
         "marker": {
          "color": "#636efa",
          "pattern": {
           "shape": ""
          }
         },
         "name": "",
         "offsetgroup": "",
         "orientation": "h",
         "showlegend": false,
         "text": [
          795,
          605,
          588.0000000000001,
          493.00000000000006,
          553,
          474.00000000000006,
          410.00000000000006,
          700.0000000000001,
          691.0000000000001,
          442,
          498.00000000000006,
          472.00000000000006,
          416.00000000000006,
          588.0000000000001,
          531,
          476.00000000000006,
          548,
          470.00000000000006,
          421.00000000000006
         ],
         "textposition": "auto",
         "type": "bar",
         "x": [
          795,
          605,
          588,
          493,
          553,
          474,
          410,
          700,
          691,
          442,
          498,
          472,
          416,
          588,
          531,
          476,
          548,
          470,
          421
         ],
         "xaxis": "x",
         "y": [
          "d16bd7f1c38335a8",
          "ac4686cb267de788",
          "ac2c9c979e9418e9",
          "7417148d9e6034e9",
          "cef48089e2663015",
          "2151499627dae131",
          "0f6b52138591295a",
          "34bd5c30cdab2436",
          "f3ce3ce0cc5d50f7",
          "8ca6e56627ab94ce",
          "c70448d8be8654bc",
          "4745a99b03312383",
          "f328516e952d0cca",
          "308bdc922fc97943",
          "236a908a75a2f787",
          "ed21417768e34de0",
          "eead91e3037ffd84",
          "d8a886ba9fa8ae5f",
          "bc7a7bf693c01d60"
         ],
         "yaxis": "y"
        }
       ],
       "layout": {
        "barmode": "overlay",
        "legend": {
         "tracegroupgap": 0
        },
        "template": {
         "data": {
          "bar": [
           {
            "error_x": {
             "color": "#2a3f5f"
            },
            "error_y": {
             "color": "#2a3f5f"
            },
            "marker": {
             "line": {
              "color": "#E5ECF6",
              "width": 0.5
             },
             "pattern": {
              "fillmode": "overlay",
              "size": 10,
              "solidity": 0.2
             }
            },
            "type": "bar"
           }
          ],
          "barpolar": [
           {
            "marker": {
             "line": {
              "color": "#E5ECF6",
              "width": 0.5
             },
             "pattern": {
              "fillmode": "overlay",
              "size": 10,
              "solidity": 0.2
             }
            },
            "type": "barpolar"
           }
          ],
          "carpet": [
           {
            "aaxis": {
             "endlinecolor": "#2a3f5f",
             "gridcolor": "white",
             "linecolor": "white",
             "minorgridcolor": "white",
             "startlinecolor": "#2a3f5f"
            },
            "baxis": {
             "endlinecolor": "#2a3f5f",
             "gridcolor": "white",
             "linecolor": "white",
             "minorgridcolor": "white",
             "startlinecolor": "#2a3f5f"
            },
            "type": "carpet"
           }
          ],
          "choropleth": [
           {
            "colorbar": {
             "outlinewidth": 0,
             "ticks": ""
            },
            "type": "choropleth"
           }
          ],
          "contour": [
           {
            "colorbar": {
             "outlinewidth": 0,
             "ticks": ""
            },
            "colorscale": [
             [
              0,
              "#0d0887"
             ],
             [
              0.1111111111111111,
              "#46039f"
             ],
             [
              0.2222222222222222,
              "#7201a8"
             ],
             [
              0.3333333333333333,
              "#9c179e"
             ],
             [
              0.4444444444444444,
              "#bd3786"
             ],
             [
              0.5555555555555556,
              "#d8576b"
             ],
             [
              0.6666666666666666,
              "#ed7953"
             ],
             [
              0.7777777777777778,
              "#fb9f3a"
             ],
             [
              0.8888888888888888,
              "#fdca26"
             ],
             [
              1,
              "#f0f921"
             ]
            ],
            "type": "contour"
           }
          ],
          "contourcarpet": [
           {
            "colorbar": {
             "outlinewidth": 0,
             "ticks": ""
            },
            "type": "contourcarpet"
           }
          ],
          "heatmap": [
           {
            "colorbar": {
             "outlinewidth": 0,
             "ticks": ""
            },
            "colorscale": [
             [
              0,
              "#0d0887"
             ],
             [
              0.1111111111111111,
              "#46039f"
             ],
             [
              0.2222222222222222,
              "#7201a8"
             ],
             [
              0.3333333333333333,
              "#9c179e"
             ],
             [
              0.4444444444444444,
              "#bd3786"
             ],
             [
              0.5555555555555556,
              "#d8576b"
             ],
             [
              0.6666666666666666,
              "#ed7953"
             ],
             [
              0.7777777777777778,
              "#fb9f3a"
             ],
             [
              0.8888888888888888,
              "#fdca26"
             ],
             [
              1,
              "#f0f921"
             ]
            ],
            "type": "heatmap"
           }
          ],
          "heatmapgl": [
           {
            "colorbar": {
             "outlinewidth": 0,
             "ticks": ""
            },
            "colorscale": [
             [
              0,
              "#0d0887"
             ],
             [
              0.1111111111111111,
              "#46039f"
             ],
             [
              0.2222222222222222,
              "#7201a8"
             ],
             [
              0.3333333333333333,
              "#9c179e"
             ],
             [
              0.4444444444444444,
              "#bd3786"
             ],
             [
              0.5555555555555556,
              "#d8576b"
             ],
             [
              0.6666666666666666,
              "#ed7953"
             ],
             [
              0.7777777777777778,
              "#fb9f3a"
             ],
             [
              0.8888888888888888,
              "#fdca26"
             ],
             [
              1,
              "#f0f921"
             ]
            ],
            "type": "heatmapgl"
           }
          ],
          "histogram": [
           {
            "marker": {
             "pattern": {
              "fillmode": "overlay",
              "size": 10,
              "solidity": 0.2
             }
            },
            "type": "histogram"
           }
          ],
          "histogram2d": [
           {
            "colorbar": {
             "outlinewidth": 0,
             "ticks": ""
            },
            "colorscale": [
             [
              0,
              "#0d0887"
             ],
             [
              0.1111111111111111,
              "#46039f"
             ],
             [
              0.2222222222222222,
              "#7201a8"
             ],
             [
              0.3333333333333333,
              "#9c179e"
             ],
             [
              0.4444444444444444,
              "#bd3786"
             ],
             [
              0.5555555555555556,
              "#d8576b"
             ],
             [
              0.6666666666666666,
              "#ed7953"
             ],
             [
              0.7777777777777778,
              "#fb9f3a"
             ],
             [
              0.8888888888888888,
              "#fdca26"
             ],
             [
              1,
              "#f0f921"
             ]
            ],
            "type": "histogram2d"
           }
          ],
          "histogram2dcontour": [
           {
            "colorbar": {
             "outlinewidth": 0,
             "ticks": ""
            },
            "colorscale": [
             [
              0,
              "#0d0887"
             ],
             [
              0.1111111111111111,
              "#46039f"
             ],
             [
              0.2222222222222222,
              "#7201a8"
             ],
             [
              0.3333333333333333,
              "#9c179e"
             ],
             [
              0.4444444444444444,
              "#bd3786"
             ],
             [
              0.5555555555555556,
              "#d8576b"
             ],
             [
              0.6666666666666666,
              "#ed7953"
             ],
             [
              0.7777777777777778,
              "#fb9f3a"
             ],
             [
              0.8888888888888888,
              "#fdca26"
             ],
             [
              1,
              "#f0f921"
             ]
            ],
            "type": "histogram2dcontour"
           }
          ],
          "mesh3d": [
           {
            "colorbar": {
             "outlinewidth": 0,
             "ticks": ""
            },
            "type": "mesh3d"
           }
          ],
          "parcoords": [
           {
            "line": {
             "colorbar": {
              "outlinewidth": 0,
              "ticks": ""
             }
            },
            "type": "parcoords"
           }
          ],
          "pie": [
           {
            "automargin": true,
            "type": "pie"
           }
          ],
          "scatter": [
           {
            "fillpattern": {
             "fillmode": "overlay",
             "size": 10,
             "solidity": 0.2
            },
            "type": "scatter"
           }
          ],
          "scatter3d": [
           {
            "line": {
             "colorbar": {
              "outlinewidth": 0,
              "ticks": ""
             }
            },
            "marker": {
             "colorbar": {
              "outlinewidth": 0,
              "ticks": ""
             }
            },
            "type": "scatter3d"
           }
          ],
          "scattercarpet": [
           {
            "marker": {
             "colorbar": {
              "outlinewidth": 0,
              "ticks": ""
             }
            },
            "type": "scattercarpet"
           }
          ],
          "scattergeo": [
           {
            "marker": {
             "colorbar": {
              "outlinewidth": 0,
              "ticks": ""
             }
            },
            "type": "scattergeo"
           }
          ],
          "scattergl": [
           {
            "marker": {
             "colorbar": {
              "outlinewidth": 0,
              "ticks": ""
             }
            },
            "type": "scattergl"
           }
          ],
          "scattermapbox": [
           {
            "marker": {
             "colorbar": {
              "outlinewidth": 0,
              "ticks": ""
             }
            },
            "type": "scattermapbox"
           }
          ],
          "scatterpolar": [
           {
            "marker": {
             "colorbar": {
              "outlinewidth": 0,
              "ticks": ""
             }
            },
            "type": "scatterpolar"
           }
          ],
          "scatterpolargl": [
           {
            "marker": {
             "colorbar": {
              "outlinewidth": 0,
              "ticks": ""
             }
            },
            "type": "scatterpolargl"
           }
          ],
          "scatterternary": [
           {
            "marker": {
             "colorbar": {
              "outlinewidth": 0,
              "ticks": ""
             }
            },
            "type": "scatterternary"
           }
          ],
          "surface": [
           {
            "colorbar": {
             "outlinewidth": 0,
             "ticks": ""
            },
            "colorscale": [
             [
              0,
              "#0d0887"
             ],
             [
              0.1111111111111111,
              "#46039f"
             ],
             [
              0.2222222222222222,
              "#7201a8"
             ],
             [
              0.3333333333333333,
              "#9c179e"
             ],
             [
              0.4444444444444444,
              "#bd3786"
             ],
             [
              0.5555555555555556,
              "#d8576b"
             ],
             [
              0.6666666666666666,
              "#ed7953"
             ],
             [
              0.7777777777777778,
              "#fb9f3a"
             ],
             [
              0.8888888888888888,
              "#fdca26"
             ],
             [
              1,
              "#f0f921"
             ]
            ],
            "type": "surface"
           }
          ],
          "table": [
           {
            "cells": {
             "fill": {
              "color": "#EBF0F8"
             },
             "line": {
              "color": "white"
             }
            },
            "header": {
             "fill": {
              "color": "#C8D4E3"
             },
             "line": {
              "color": "white"
             }
            },
            "type": "table"
           }
          ]
         },
         "layout": {
          "annotationdefaults": {
           "arrowcolor": "#2a3f5f",
           "arrowhead": 0,
           "arrowwidth": 1
          },
          "autotypenumbers": "strict",
          "coloraxis": {
           "colorbar": {
            "outlinewidth": 0,
            "ticks": ""
           }
          },
          "colorscale": {
           "diverging": [
            [
             0,
             "#8e0152"
            ],
            [
             0.1,
             "#c51b7d"
            ],
            [
             0.2,
             "#de77ae"
            ],
            [
             0.3,
             "#f1b6da"
            ],
            [
             0.4,
             "#fde0ef"
            ],
            [
             0.5,
             "#f7f7f7"
            ],
            [
             0.6,
             "#e6f5d0"
            ],
            [
             0.7,
             "#b8e186"
            ],
            [
             0.8,
             "#7fbc41"
            ],
            [
             0.9,
             "#4d9221"
            ],
            [
             1,
             "#276419"
            ]
           ],
           "sequential": [
            [
             0,
             "#0d0887"
            ],
            [
             0.1111111111111111,
             "#46039f"
            ],
            [
             0.2222222222222222,
             "#7201a8"
            ],
            [
             0.3333333333333333,
             "#9c179e"
            ],
            [
             0.4444444444444444,
             "#bd3786"
            ],
            [
             0.5555555555555556,
             "#d8576b"
            ],
            [
             0.6666666666666666,
             "#ed7953"
            ],
            [
             0.7777777777777778,
             "#fb9f3a"
            ],
            [
             0.8888888888888888,
             "#fdca26"
            ],
            [
             1,
             "#f0f921"
            ]
           ],
           "sequentialminus": [
            [
             0,
             "#0d0887"
            ],
            [
             0.1111111111111111,
             "#46039f"
            ],
            [
             0.2222222222222222,
             "#7201a8"
            ],
            [
             0.3333333333333333,
             "#9c179e"
            ],
            [
             0.4444444444444444,
             "#bd3786"
            ],
            [
             0.5555555555555556,
             "#d8576b"
            ],
            [
             0.6666666666666666,
             "#ed7953"
            ],
            [
             0.7777777777777778,
             "#fb9f3a"
            ],
            [
             0.8888888888888888,
             "#fdca26"
            ],
            [
             1,
             "#f0f921"
            ]
           ]
          },
          "colorway": [
           "#636efa",
           "#EF553B",
           "#00cc96",
           "#ab63fa",
           "#FFA15A",
           "#19d3f3",
           "#FF6692",
           "#B6E880",
           "#FF97FF",
           "#FECB52"
          ],
          "font": {
           "color": "#2a3f5f"
          },
          "geo": {
           "bgcolor": "white",
           "lakecolor": "white",
           "landcolor": "#E5ECF6",
           "showlakes": true,
           "showland": true,
           "subunitcolor": "white"
          },
          "hoverlabel": {
           "align": "left"
          },
          "hovermode": "closest",
          "mapbox": {
           "style": "light"
          },
          "paper_bgcolor": "white",
          "plot_bgcolor": "#E5ECF6",
          "polar": {
           "angularaxis": {
            "gridcolor": "white",
            "linecolor": "white",
            "ticks": ""
           },
           "bgcolor": "#E5ECF6",
           "radialaxis": {
            "gridcolor": "white",
            "linecolor": "white",
            "ticks": ""
           }
          },
          "scene": {
           "xaxis": {
            "backgroundcolor": "#E5ECF6",
            "gridcolor": "white",
            "gridwidth": 2,
            "linecolor": "white",
            "showbackground": true,
            "ticks": "",
            "zerolinecolor": "white"
           },
           "yaxis": {
            "backgroundcolor": "#E5ECF6",
            "gridcolor": "white",
            "gridwidth": 2,
            "linecolor": "white",
            "showbackground": true,
            "ticks": "",
            "zerolinecolor": "white"
           },
           "zaxis": {
            "backgroundcolor": "#E5ECF6",
            "gridcolor": "white",
            "gridwidth": 2,
            "linecolor": "white",
            "showbackground": true,
            "ticks": "",
            "zerolinecolor": "white"
           }
          },
          "shapedefaults": {
           "line": {
            "color": "#2a3f5f"
           }
          },
          "ternary": {
           "aaxis": {
            "gridcolor": "white",
            "linecolor": "white",
            "ticks": ""
           },
           "baxis": {
            "gridcolor": "white",
            "linecolor": "white",
            "ticks": ""
           },
           "bgcolor": "#E5ECF6",
           "caxis": {
            "gridcolor": "white",
            "linecolor": "white",
            "ticks": ""
           }
          },
          "title": {
           "x": 0.05
          },
          "xaxis": {
           "automargin": true,
           "gridcolor": "white",
           "linecolor": "white",
           "ticks": "",
           "title": {
            "standoff": 15
           },
           "zerolinecolor": "white",
           "zerolinewidth": 2
          },
          "yaxis": {
           "automargin": true,
           "gridcolor": "white",
           "linecolor": "white",
           "ticks": "",
           "title": {
            "standoff": 15
           },
           "zerolinecolor": "white",
           "zerolinewidth": 2
          }
         }
        },
        "title": {
         "text": "Trace: a6944968e1866b0987dc3f814e205a50"
        },
        "xaxis": {
         "anchor": "y",
         "domain": [
          0,
          1
         ],
         "type": "date"
        },
        "yaxis": {
         "anchor": "x",
         "autorange": "reversed",
         "domain": [
          0,
          1
         ],
         "showticklabels": false,
         "title": {
          "text": "span_id"
         }
        }
       }
      }
     },
     "metadata": {},
     "output_type": "display_data"
    }
   ],
   "source": [
    "draw_trace(TRACE)"
   ]
  },
  {
   "attachments": {},
   "cell_type": "markdown",
   "metadata": {},
   "source": [
    "#### **3.2 Inferring topology**"
   ]
  },
  {
   "attachments": {},
   "cell_type": "markdown",
   "metadata": {},
   "source": [
    "In order to infer the topology of the system, we will build a network graph using the `get_network_graph` function defined in the following code block. The function takes a trace id, sorts the spans in the trace recursively, and builds a network graph using the `networkx` library. The function returns the network graph that can be plotted using the `draw_network_graph` function defined in the previous section."
   ]
  },
  {
   "cell_type": "code",
   "execution_count": 35,
   "metadata": {},
   "outputs": [],
   "source": [
    "# Draw a network graph of the trace based on source and target\n",
    "def get_network_graph(trace_id):\n",
    "    # Get DFS SORTED TRACE\n",
    "    TRACE = trace_dfs_sort(trace_id)    \n",
    "\n",
    "    # ADD SOURCE AND TARGET COLUMNS FOR EXTRA INFORMATION\n",
    "    TRACE['source'] = TRACE.apply(lambda x: x['source_ip'].replace(\"::ffff:\",'') if not pd.isna(x['source_ip']) else RESOURCES.loc[RESOURCES['_id'] == x['resource_id']]['service_ip'].iloc[0], axis=1)\n",
    "    TRACE['target'] = TRACE.apply(lambda x: x['target_ip'].replace(\"::ffff:\",''), axis=1)\n",
    "\n",
    "    # BUILD GRAPH\n",
    "    G = nx.DiGraph()\n",
    "    for i, row in TRACE.iterrows():\n",
    "        if pd.isna(row['source_ip']) or pd.isna(row['parent_span_id']):\n",
    "            if G.has_edge(row['source'], row['target']):\n",
    "                G[row['source']][row['target']]['weight'] += 1\n",
    "            else:\n",
    "                G.add_edge(row['source'], row['target'], weight=1)\n",
    "    \n",
    "    for edge in G.edges(data=True):\n",
    "        G[edge[0]][edge[1]]['weight'] = G[edge[0]][edge[1]]['weight'] // (G.in_degree(edge[0]) if G.in_degree(edge[0]) > 0 else 1)\n",
    "    \n",
    "    G.graph['name'] = TRACE['request'].iloc[0]\n",
    "\n",
    "    return G\n"
   ]
  },
  {
   "attachments": {},
   "cell_type": "markdown",
   "metadata": {},
   "source": [
    "Once defined, we can get the graph into a variable and work with it afterwads."
   ]
  },
  {
   "cell_type": "code",
   "execution_count": 36,
   "metadata": {},
   "outputs": [],
   "source": [
    "G = get_network_graph(TRACE)"
   ]
  },
  {
   "attachments": {},
   "cell_type": "markdown",
   "metadata": {},
   "source": [
    "Note that each trace may define a different topology. This is because depending on the operation, the MSA may interact with different internal or external services. Thus, we have managed to infer the network topology of the system per operation using RESTSense. The code block below models the topology to be used in the capacity analysis process afterwards."
   ]
  },
  {
   "cell_type": "code",
   "execution_count": 37,
   "metadata": {},
   "outputs": [
    {
     "name": "stdout",
     "output_type": "stream",
     "text": [
      "Internal services:  ['172_19_0_4', '172_19_0_1', '172_19_0_2', '172_19_0_3']\n",
      "External services:  ['140_82_121_5']\n",
      "Entry:  172_19_0_1\n",
      "Relationships:  [{'from': '172_19_0_4', 'to': '172_19_0_1', 'value': 1}, {'from': '172_19_0_4', 'to': '172_19_0_2', 'value': 2}, {'from': '172_19_0_4', 'to': '172_19_0_3', 'value': 1}, {'from': '172_19_0_2', 'to': '140_82_121_5', 'value': 2}, {'from': '172_19_0_3', 'to': '140_82_121_5', 'value': 1}, {'from': '172_19_0_3', 'to': '172_19_0_2', 'value': 3}]\n"
     ]
    }
   ],
   "source": [
    "# Adapt the information in the graph to the LAMA model\n",
    "nodes = G.nodes()\n",
    "\n",
    "# Get the entry point\n",
    "entry = SPANS.loc[SPANS['trace_id'] == TRACE]\n",
    "entry = entry.loc[pd.isna(entry['parent_span_id'])].sort_values(by=['start_time']).iloc[0]\n",
    "entry = entry['target_ip'].replace(\"::ffff:\",'').replace(\".\", \"_\")\n",
    "\n",
    "# Infer the network id from the entry point target ip\n",
    "network_id = ipaddress.ip_network(entry.replace(\"_\", \".\") + '/' + str(32 - len(nodes)), strict=False)\n",
    "\n",
    "# Get internal and external services\n",
    "internal_services = list(map(lambda x: x.replace(\".\", \"_\"), list(filter(lambda x: ipaddress.ip_address(x) in network_id, nodes))))\n",
    "external_services = list(map(lambda x: x.replace(\".\", \"_\"), list(filter(lambda x: ipaddress.ip_address(x) not in network_id, nodes))))\n",
    "\n",
    "# Map edges to the LAMA model (The entrypoint edge must be reversed since it is a response)\n",
    "edges = map(lambda x: { \"from\": x[0].replace(\".\", \"_\"), \"to\": x[1].replace(\".\", \"_\"), \"value\": G[x[0]][x[1]]['weight'] }, G.edges(data=True))\n",
    "relationships = list(map(lambda x: { \"from\": x['to'], \"to\": x['from'], \"value\": x['value'] } if x['from'] == entry else x, edges))\n",
    "\n",
    "# Print the information\n",
    "print(\"Internal services: \", internal_services)\n",
    "print(\"External services: \", external_services)\n",
    "print(\"Entry: \", entry)\n",
    "print(\"Relationships: \", relationships)"
   ]
  },
  {
   "attachments": {},
   "cell_type": "markdown",
   "metadata": {},
   "source": [
    "As mentioned above, having built the network graph, we can use the `draw_network_graph` function to plot the graph. The following code block plots the network graph of the first trace in the `TRACES` list. You can change the index to visualize a different trace."
   ]
  },
  {
   "cell_type": "code",
   "execution_count": 38,
   "metadata": {},
   "outputs": [
    {
     "data": {
      "image/png": "[encoded data removed]",
      "text/plain": [
       "<Figure size 640x480 with 1 Axes>"
      ]
     },
     "metadata": {},
     "output_type": "display_data"
    }
   ],
   "source": [
    "draw_network(G)"
   ]
  },
  {
   "attachments": {},
   "cell_type": "markdown",
   "metadata": {},
   "source": [
    "---\n",
    "\n",
    "### **4. Capacity Analysis**\n",
    "\n",
    "In this section, we will perform the capacity analysis process using the topology inferred in the previous section. The capacity analysis process consists of two primary steps: LAMA creation and analysis. The LAMA creation step consists of creating a LAMA based on the topology inferred in the previous section. The analysis step consists of analyzing the LAMA to obtain the capacity of the system.\n",
    "\n",
    "The process of analysis is based on [this paper](https://biblioteca.sistedes.es/submissions/descargas/2022/JCIS/2022-JCIS-032.pdf) from Fresno-Aranda et al. where they use a tool called Smart-Lama to perform capacity abalysis. Thus, before starting, we will define some helper constants and functions that will be used throughout the capacity analysis process."
   ]
  },
  {
   "cell_type": "code",
   "execution_count": 39,
   "metadata": {},
   "outputs": [],
   "source": [
    "# Some auxiliary constants and variables\n",
    "SECONDS_PER_MONTH= 60*60*24*30\n",
    "SECONDS_PER_DAY= 60*60*24\n",
    "MAXIMUM_COST= 99999999.99\n",
    "\n",
    "serviceName = 'test_infrastructure-' + G.graph['name'].replace(' ', '_').replace('/', '_').replace(':', '_').replace('.', '_').replace('?', '_').replace('&', '_').replace('=', '_').replace('-', '_')\n",
    "\n",
    "api_url = 'https://smart-lama.services.governify.io/api/v2/lamas'\n",
    "urlBase= api_url+'/'+serviceName+'/operations/'"
   ]
  },
  {
   "attachments": {},
   "cell_type": "markdown",
   "metadata": {},
   "source": [
    "We will now create CRUD wrappers using the [requests](https://docs.python-requests.org/en/latest/) library and [json](https://docs.python.org/3/library/json.html) library. The following code block defines the functions:"
   ]
  },
  {
   "cell_type": "code",
   "execution_count": 40,
   "metadata": {},
   "outputs": [],
   "source": [
    "# LAMA CRUD wrappers \n",
    "def post_lama(ldl):\n",
    "    headers = {'Content-Type': 'application/json'}\n",
    "    json_response = requests.post(api_url, data=json.dumps(ldl), headers=headers)\n",
    "    res = json_response.status_code\n",
    "    return res\n",
    "\n",
    "def put_lama(ldl):\n",
    "    headers = {'Content-Type': 'application/json'}\n",
    "    json_response = requests.put(api_url+'/'+serviceName, data=json.dumps(ldl), headers=headers)\n",
    "    res = json_response.status_code\n",
    "    return res\n",
    "\n",
    "def delete_lama():\n",
    "    json_response = requests.delete(api_url+'/'+serviceName)\n",
    "    res = json_response.status_code\n",
    "    return res"
   ]
  },
  {
   "attachments": {},
   "cell_type": "markdown",
   "metadata": {},
   "source": [
    "Now, we will define functions that will help us answer the following capacity questions:\n",
    "\n",
    "* What is the maximum number of requests that can be made within a given time window?\n",
    "* What is the maximum quota per month for a given plan without the risk of exceeding the API limitations?\n",
    "* Which is the minimum cost to serve a given number of requests?\n",
    "* What is the minimum time to serve a given number of requests?\n",
    "* What is the minimum time to serve a given number of requests for less than a given price?"
   ]
  },
  {
   "cell_type": "code",
   "execution_count": 41,
   "metadata": {},
   "outputs": [],
   "source": [
    "# Operation wrappers\n",
    "def maxRequests(timeWindow,maximumCost=MAXIMUM_COST,useOvg=\"false\"):\n",
    "    api_q= urlBase+'maxRequests?OpEx={0}&time={1}&useOvg={2}'.format(maximumCost,timeWindow,useOvg)\n",
    "    res = requests.get(api_q).json()\n",
    "    result = res['result']\n",
    "    response = res['response']\n",
    "    return (result, response)\n",
    "\n",
    "def maxRequestsKeys(timeWindow,keysE1Basic,keysE1Premium,keysE2Silver,keysE2Gold,useOvg=\"false\"):\n",
    "    api_q= urlBase+'maxRequests?K-E1-Basic={0}&K-E1-Premium={1}&K-E2-Silver={2}&K-E2-Gold={3}&time={4}&useOvg={5}'.format(keysE1Basic,keysE1Premium,keysE2Silver,keysE2Gold,timeWindow,useOvg)\n",
    "    res = requests.get(api_q).json()\n",
    "    result = res['result']\n",
    "    response = res['response']\n",
    "    return (result, response)\n",
    "\n",
    "def minCost(numRequests,numSeconds=SECONDS_PER_MONTH,useOvg=\"false\"):\n",
    "    api_q= urlBase+'minCost?reqL={0}&time={1}&useOvg={2}'.format(numRequests,numSeconds,useOvg)\n",
    "    res = requests.get(api_q).json()\n",
    "    result = res['result']\n",
    "    response = res['response']\n",
    "    return (result, response)\n",
    "\n",
    "def minTime(numRequests,maximumCost=MAXIMUM_COST,useOvg=\"false\"):\n",
    "    api_q= urlBase+'minTime?reqL={0}&OpEx={1}&useOvg={2}'.format(numRequests, maximumCost,useOvg)\n",
    "    res = requests.get(api_q).json()\n",
    "    result = res['result']\n",
    "    response = res['response']\n",
    "    return (result, response)\n",
    "\n",
    "def minTimeKeys(numRequests,keysE1Basic,keysE1Premium,keysE2Silver,keysE2Gold,useOvg=\"false\"):\n",
    "    api_q= urlBase+'minTime?reqL={0}&K-E1-Basic={1}&K-E1-Premium={2}&K-E2-Silver={3}&K-E2-Gold={4}&useOvg={5}'.format(numRequests,keysE1Basic,keysE1Premium,keysE2Silver,keysE2Gold,useOvg)\n",
    "    res = requests.get(api_q).json()\n",
    "    result = res['result']\n",
    "    response = res['response']\n",
    "    return (result, response)\n"
   ]
  },
  {
   "attachments": {},
   "cell_type": "markdown",
   "metadata": {},
   "source": [
    "#### **4.1 LAMA creation**"
   ]
  },
  {
   "attachments": {},
   "cell_type": "markdown",
   "metadata": {},
   "source": [
    "From the inferred topology, we can create a LAMA in Smart-Lama. To do so, we will use the CRUD wrappers defined above, but first we need to define the lama using the domain specific language (DSL) defined in the paper. The following code block declares the LAMA according to the DSL:"
   ]
  },
  {
   "cell_type": "code",
   "execution_count": 42,
   "metadata": {},
   "outputs": [],
   "source": [
    "# Description of the LAMA to analyse\n",
    "lama_dl = {\n",
    "    \"id\": serviceName,\n",
    "    \"services\": internal_services,\n",
    "    \"external\": external_services,\n",
    "    \"entry\": entry,\n",
    "    \"relationships\": relationships,\n",
    "    \"pricings\": [\n",
    "        {\n",
    "            \"external\": external_services[0],\n",
    "            \"plans\": [\n",
    "                {\n",
    "                    \"name\": \"Authenticated\",\n",
    "                    \"cost\": 0.0,\n",
    "                    \"rate\": 5000,\n",
    "                    \"rateunit\": 86400,\n",
    "                    \"quota\": 5000,\n",
    "                    \"quotaunit\": 86400,\n",
    "                    \"ovg\": 0.0\n",
    "                }\n",
    "            ]\n",
    "        }\n",
    "    ]\n",
    "}"
   ]
  },
  {
   "attachments": {},
   "cell_type": "markdown",
   "metadata": {},
   "source": [
    "We can now use the CRUD wrappers to POST the LAMA to Smart-Lama and start the analysis. The following code block posts the LAMA to Smart-Lama:"
   ]
  },
  {
   "cell_type": "code",
   "execution_count": 43,
   "metadata": {},
   "outputs": [
    {
     "name": "stdout",
     "output_type": "stream",
     "text": [
      "The LAMA for test_infrastructure-POST_http___localhost_8080_api_v1_request is succesfully created\n"
     ]
    }
   ],
   "source": [
    "status = post_lama(lama_dl)\n",
    "if status == 201:\n",
    "    print('The LAMA for ' + serviceName + ' is succesfully created')\n",
    "elif status == 409:\n",
    "   # update/put the resource\n",
    "    status_2 = put_lama(lama_dl)\n",
    "    if status_2 == 204:\n",
    "        print('The LAMA for ' + serviceName + ' was successfully updated')\n",
    "    else:\n",
    "        print('There was an error when updating the LAMA for ' + serviceName)\n",
    "    #print('The LAMA for ' + serviceName + ' is already created')\n",
    "else:\n",
    "    print('There was an error when creating the LAMA for ' + serviceName)"
   ]
  },
  {
   "attachments": {},
   "cell_type": "markdown",
   "metadata": {},
   "source": [
    "#### **4.2 Analysis**\n",
    "\n",
    "Once the LAMA has been created, we can now perform the analysis. We will start answering the questions defined in the previous section. The following code block answers the first question: *What is the maximum number of requests that can be made within a given time window?*\n",
    "\n",
    "We have set a time window of 1 minute. The result is shown after executing the code block below. Note that we have commented the full response, but you can uncomment it in case you want to see more details."
   ]
  },
  {
   "cell_type": "code",
   "execution_count": 44,
   "metadata": {},
   "outputs": [
    {
     "name": "stdout",
     "output_type": "stream",
     "text": [
      "The maximum number of requests than can be made in 1 minute is 4545 \n"
     ]
    }
   ],
   "source": [
    "# Q1. What is the maximum number of requests that can be made in 1 minute? \n",
    "\n",
    "(MR,fullResponse) = maxRequests(60)\n",
    "print ('The maximum number of requests than can be made in 1 minute is {0} '.format(MR))\n",
    "#print (fullResponse)"
   ]
  },
  {
   "attachments": {},
   "cell_type": "markdown",
   "metadata": {},
   "source": [
    "The following code block answers the second question: *What is the maximum quota per month for a given plan without the risk of exceeding the API limitations?*"
   ]
  },
  {
   "cell_type": "code",
   "execution_count": 45,
   "metadata": {},
   "outputs": [
    {
     "name": "stdout",
     "output_type": "stream",
     "text": [
      "The maximum quota per month is 136363\n"
     ]
    }
   ],
   "source": [
    "# Q2. What is the maximum quota per month for a given plan without the risk of exceeding the API limitations?\n",
    "\n",
    "c=10\n",
    "t=SECONDS_PER_MONTH\n",
    "(MR,fullResponse) = maxRequests(t, c)\n",
    "print ('The maximum quota per month is {0}'.format(MR))\n",
    "#print (fullResponse)"
   ]
  },
  {
   "attachments": {},
   "cell_type": "markdown",
   "metadata": {},
   "source": [
    "The following code block answers the third question: *Which is the minimum cost to serve a given number of requests?*\n",
    "Note that since we are using the free plan from GitHub API, the cost will be 0."
   ]
  },
  {
   "cell_type": "code",
   "execution_count": 46,
   "metadata": {},
   "outputs": [
    {
     "name": "stdout",
     "output_type": "stream",
     "text": [
      "The minimum cost to serve 5 requests is 0\n"
     ]
    }
   ],
   "source": [
    "# Q3. What is the minimum cost to serve 5 requests?\n",
    "\n",
    "n= 5\n",
    "(mc,fullResponse) = minCost(n)\n",
    "print ('The minimum cost to serve {0} requests is {1}'.format(n, mc, '0:.2f'))\n",
    "#print (fullResponse)"
   ]
  },
  {
   "attachments": {},
   "cell_type": "markdown",
   "metadata": {},
   "source": [
    "The following code block answers the fourth question: *What is the minimum time to serve a given number of requests?*\n",
    "Note that since GitHub does not provide a rate limit (only a hard limit), the time will be minimum."
   ]
  },
  {
   "cell_type": "code",
   "execution_count": 47,
   "metadata": {},
   "outputs": [
    {
     "name": "stdout",
     "output_type": "stream",
     "text": [
      "The minimum time to serve 300 requests is 1 seconds\n"
     ]
    }
   ],
   "source": [
    "# Q4. What is the minimum time to serve 300 requests?\n",
    "\n",
    "n= 300\n",
    "(mt,fullResponse) = minTime(n)\n",
    "if (mt==\"Unsatisfiable\"):\n",
    "    print ('It is not possible to serve {0} requests'.format(n, '0:.2f'))\n",
    "else:\n",
    "    print ('The minimum time to serve {0} requests is {1} seconds'.format(n, mt, '0:.2f'))\n",
    "#print (fullResponse)"
   ]
  },
  {
   "attachments": {},
   "cell_type": "markdown",
   "metadata": {},
   "source": [
    "The following code block answers the fifth question: *What is the minimum time to serve a given number of requests for less than a given price?* This question's answer is the same as the previous one, since there is no cost associated with the requests."
   ]
  },
  {
   "cell_type": "code",
   "execution_count": 48,
   "metadata": {},
   "outputs": [
    {
     "name": "stdout",
     "output_type": "stream",
     "text": [
      "The minimum time to serve 300 requests is 1 seconds\n"
     ]
    }
   ],
   "source": [
    "# Q5. What is the minimum time to serve 300 requests for less than $20?\n",
    "\n",
    "n= 300\n",
    "cost= 20\n",
    "(mt,fullResponse) = minTime(n, cost)\n",
    "if (mt==\"Unsatisfiable\"):\n",
    "    print ('It is not posible to serve {0} requests in less than {1} seconds for less than {2}.'.format(n, mt, cost))\n",
    "else:\n",
    "    print ('The minimum time to serve {0} requests is {1} seconds'.format(n, mt, '0:.2f'))\n",
    "#print (fullResponse)"
   ]
  },
  {
   "attachments": {},
   "cell_type": "markdown",
   "metadata": {},
   "source": [
    "Finally, after completing the analysis, we delete the LAMA from Smart-Lama."
   ]
  },
  {
   "cell_type": "code",
   "execution_count": 49,
   "metadata": {},
   "outputs": [
    {
     "data": {
      "text/plain": [
       "204"
      ]
     },
     "execution_count": 49,
     "metadata": {},
     "output_type": "execute_result"
    }
   ],
   "source": [
    "delete_lama()"
   ]
  },
  {
   "attachments": {},
   "cell_type": "markdown",
   "metadata": {},
   "source": [
    "#### **4.3 Results**\n",
    "\n",
    "The results obtained from the analysis are shown below:\n",
    "\n",
    "1. _What is the maximum number of requests that can be made within a given time window?_ (1 minute)\n",
    "    * **4545 requests**. <br><br>\n",
    "\n",
    "2. _What is the maximum quota per month for a given plan without the risk of exceeding the API limitations?_ (Free plan)\n",
    "    * **136363 requests per month**.<br><br>\n",
    "\n",
    "3. _Which is the minimum cost to serve a given number of requests?_ (Free plan)\n",
    "    * **0.00**.<br><br>\n",
    "\n",
    "4. _What is the minimum time to serve a given number of requests?_ (Free plan)\n",
    "    * **1 second**.<br><br>\n",
    "\n",
    "5. _What is the minimum time to serve a given number of requests for less than a given price?_ (Free plan)\n",
    "    * **1 second**.<br><br>\n",
    "\n",
    "This analysis demonstrates the applicability of telemetry to the capacity analysis process. By leveraging RESTSense, we have been able to infer the inputs required for capacity analysis based on the telemetry data. This contributes to the automation of the capacity analysis process and enhances our understanding of system behavior. Furthermore, the use of RESTSense in combination with Smart-Lama allows us to perform capacity analysis at runtime and in a continuous manner, which is crucial for ensuring the smooth functioning and optimal performance of these systems.\n",
    "\n",
    "---"
   ]
  },
  {
   "attachments": {},
   "cell_type": "markdown",
   "metadata": {},
   "source": [
    "### **5. Limitations**\n",
    "\n",
    "Upon completion of the analysis, we have identified the following limitations:\n",
    "\n",
    "1. It is not possible to automatically obtain the plans from external APIs, they must be entered manually in the system.\n",
    "2. If not all services are implemented, it is not possible to identify external services when the infrastructure is distributed over several servers with different network identifiers.\n",
    "3. The need of infrastructure to deploy the RESTSense Collector may be considered a limitation, since it may require additional resources from the system where it is deployed, leading to a potential increase of the infrastructure costs.\n",
    "---"
   ]
  },
  {
   "attachments": {},
   "cell_type": "markdown",
   "metadata": {},
   "source": [
    "### **6. Conclusions**\n",
    "\n",
    "In this notebook, we have demonstrated the applicability of telemetry to the capacity analysis process. To this end, we have leveraged RESTSense to infer the inputs required for capacity analysis based on the telemetry data. This contributes to the automation of the capacity analysis process and enhances our understanding of system behavior. Furthermore, the use of RESTSense in combination with Smart-Lama allows us to perform capacity analysis at runtime and in a continuous manner, which is crucial for ensuring the smooth functioning and optimal performance of these systems.\n",
    "\n",
    "RESTSense brings us one step closer to the automation of the capacity analysis process, and due to it exporting valuable telemetry data, may have potential applications in other areas. The usage of RESTSense telemetry data for machine learning purposes is feasible, and may be used to predict the capacity of the system, or to detect anomalies in the system behavior.\n",
    "\n",
    "Although we have successfully demonstrated the applicability of telemetry to the capacity analysis process, we have also identified some limitations, which are left as future work. These limitations include the need to manually enter the plans from external APIs, the inability to identify external services when the infrastructure is distributed over several servers with different network identifiers, and the need of infrastructure to deploy the RESTSense Collector, which may require additional resources from the system where it is deployed, leading to a potential increase of the infrastructure costs.\n",
    "\n",
    "These limitations could be addressed by extending the functionality of RESTSense. For instance, the plans from external APIs could be automatically obtained by leveraging RESTSense to extract the information from APIs that provide this information by means of standards and specifications such as [SLA4OAI](https://sla4oai.specs.governify.io/). Furthermore, RESTSense could implement agents for different languages other than Node.js, which would allow to identify external services when the infrastructure is distributed over several servers with different network identifiers. Finally, although the RESTSense datamodel specification is designed to input minimum overhead, the infrastructure costs may be affected anyway. This could be solved by providing a Software as a Service (SaaS) solution, where the RESTSense Collector is deployed in the cloud, thus reducing the infrastructure costs of monitored systems.\n",
    "\n",
    "In conclusion, RESTSense is a promising tool that can be used to automate the capacity analysis process and enhance our understanding of system behavior. Furthermore, RESTSense may have potential applications in other areas, such as machine learning."
   ]
  }
 ],
 "metadata": {
  "kernelspec": {
   "display_name": "base",
   "language": "python",
   "name": "python3"
  },
  "language_info": {
   "codemirror_mode": {
    "name": "ipython",
    "version": 3
   },
   "file_extension": ".py",
   "mimetype": "text/x-python",
   "name": "python",
   "nbconvert_exporter": "python",
   "pygments_lexer": "ipython3",
   "version": "3.9.13"
  },
  "orig_nbformat": 4
 },
 "nbformat": 4,
 "nbformat_minor": 2
}
